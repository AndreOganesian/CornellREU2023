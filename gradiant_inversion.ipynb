{
 "cells": [
  {
   "cell_type": "code",
   "execution_count": 7,
   "metadata": {},
   "outputs": [],
   "source": [
    "import numpy as np\n",
    "import jax\n",
    "import jax.numpy as jnp\n",
    "import matplotlib.pyplot as plt\n",
    "import scipy\n",
    "from scipy.spatial import cKDTree\n",
    "from scipy.spatial import Delaunay\n",
    "from scipy.optimize import basinhopping\n",
    "import copy\n",
    "from sklearn.cluster import MiniBatchKMeans\n",
    "from basic_functions import *"
   ]
  },
  {
   "cell_type": "code",
   "execution_count": 10,
   "metadata": {},
   "outputs": [],
   "source": [
    "\n",
    "# Set initial values and parameters\n",
    "start = jnp.array((1., 1., 1.))#.reshape(3, 1)\n",
    "nt = 1 #transition step size\n",
    "subset_size = 500 #cell number\n"
   ]
  },
  {
   "cell_type": "code",
   "execution_count": 12,
   "metadata": {},
   "outputs": [
    {
     "name": "stdout",
     "output_type": "stream",
     "text": [
      "{'sigma': 10, 'beta': 2.6666666666666665, 'rho': 28, 'length': 100000, 'dt': 0.005}\n"
     ]
    },
    {
     "ename": "TypeError",
     "evalue": "JAX only supports number and bool dtypes, got dtype <class 'object'> in array",
     "output_type": "error",
     "traceback": [
      "\u001b[1;31m---------------------------------------------------------------------------\u001b[0m",
      "\u001b[1;31mTypeError\u001b[0m                                 Traceback (most recent call last)",
      "Cell \u001b[1;32mIn[12], line 3\u001b[0m\n\u001b[0;32m      1\u001b[0m \u001b[39m#REAL trajectory\u001b[39;00m\n\u001b[0;32m      2\u001b[0m \u001b[39mprint\u001b[39m(params_fixed)\n\u001b[1;32m----> 3\u001b[0m ys_fixed \u001b[39m=\u001b[39m Euler_jnp(params_fixed)\n\u001b[0;32m      5\u001b[0m \u001b[39m#CELL CENTER\u001b[39;00m\n\u001b[0;32m      6\u001b[0m Xtrain_fixed \u001b[39m=\u001b[39m ys_fixed\u001b[39m.\u001b[39mtranspose()\n",
      "File \u001b[1;32mc:\\Users\\andre\\Projects\\CornellREU2023\\basic_functions.py:39\u001b[0m, in \u001b[0;36mEuler_jnp\u001b[1;34m(params)\u001b[0m\n\u001b[0;32m     37\u001b[0m ys \u001b[39m=\u001b[39m []\n\u001b[0;32m     38\u001b[0m \u001b[39mfor\u001b[39;00m _  \u001b[39min\u001b[39;00m \u001b[39mrange\u001b[39m(params[\u001b[39m\"\u001b[39m\u001b[39mlength\u001b[39m\u001b[39m\"\u001b[39m]): \n\u001b[1;32m---> 39\u001b[0m     y \u001b[39m=\u001b[39m y \u001b[39m+\u001b[39m params[\u001b[39m\"\u001b[39m\u001b[39mdt\u001b[39m\u001b[39m\"\u001b[39m] \u001b[39m*\u001b[39m Lorenz_jnp(y, params)\n\u001b[0;32m     40\u001b[0m     ys\u001b[39m.\u001b[39mappend(y)\n\u001b[0;32m     41\u001b[0m \u001b[39mreturn\u001b[39;00m jnp\u001b[39m.\u001b[39marray(ys)\u001b[39m.\u001b[39mtranspose()\n",
      "    \u001b[1;31m[... skipping hidden 12 frame]\u001b[0m\n",
      "File \u001b[1;32mc:\\Users\\andre\\Projects\\CornellREU2023\\basic_functions.py:32\u001b[0m, in \u001b[0;36mLorenz_jnp\u001b[1;34m(y, params)\u001b[0m\n\u001b[0;32m     30\u001b[0m dx2 \u001b[39m=\u001b[39m y[\u001b[39m0\u001b[39m] \u001b[39m*\u001b[39m (params[\u001b[39m\"\u001b[39m\u001b[39mrho\u001b[39m\u001b[39m\"\u001b[39m] \u001b[39m-\u001b[39m y[\u001b[39m2\u001b[39m]) \u001b[39m-\u001b[39m y[\u001b[39m1\u001b[39m]\n\u001b[0;32m     31\u001b[0m dx3 \u001b[39m=\u001b[39m y[\u001b[39m0\u001b[39m] \u001b[39m*\u001b[39m y[\u001b[39m1\u001b[39m] \u001b[39m-\u001b[39m params[\u001b[39m\"\u001b[39m\u001b[39mbeta\u001b[39m\u001b[39m\"\u001b[39m] \u001b[39m*\u001b[39m y[\u001b[39m2\u001b[39m]\n\u001b[1;32m---> 32\u001b[0m \u001b[39mreturn\u001b[39;00m jnp\u001b[39m.\u001b[39;49marray((dx1, dx2, dx3), dtype \u001b[39m=\u001b[39;49m \u001b[39mobject\u001b[39;49m)\u001b[39m.\u001b[39mflatten()\n",
      "File \u001b[1;32m~\\AppData\\Local\\Packages\\PythonSoftwareFoundation.Python.3.11_qbz5n2kfra8p0\\LocalCache\\local-packages\\Python311\\site-packages\\jax\\_src\\numpy\\lax_numpy.py:1992\u001b[0m, in \u001b[0;36marray\u001b[1;34m(object, dtype, copy, order, ndmin)\u001b[0m\n\u001b[0;32m   1989\u001b[0m   \u001b[39mraise\u001b[39;00m \u001b[39mNotImplementedError\u001b[39;00m(\u001b[39m\"\u001b[39m\u001b[39mOnly implemented for order=\u001b[39m\u001b[39m'\u001b[39m\u001b[39mK\u001b[39m\u001b[39m'\u001b[39m\u001b[39m\"\u001b[39m)\n\u001b[0;32m   1991\u001b[0m \u001b[39m# check if the given dtype is compatible with JAX\u001b[39;00m\n\u001b[1;32m-> 1992\u001b[0m dtypes\u001b[39m.\u001b[39;49mcheck_user_dtype_supported(dtype, \u001b[39m\"\u001b[39;49m\u001b[39marray\u001b[39;49m\u001b[39m\"\u001b[39;49m)\n\u001b[0;32m   1994\u001b[0m \u001b[39m# Here we make a judgment call: we only return a weakly-typed array when the\u001b[39;00m\n\u001b[0;32m   1995\u001b[0m \u001b[39m# input object itself is weakly typed. That ensures asarray(x) is a no-op\u001b[39;00m\n\u001b[0;32m   1996\u001b[0m \u001b[39m# whenever x is weak, but avoids introducing weak types with something like\u001b[39;00m\n\u001b[0;32m   1997\u001b[0m \u001b[39m# array([1, 2, 3])\u001b[39;00m\n\u001b[0;32m   1998\u001b[0m weak_type \u001b[39m=\u001b[39m dtype \u001b[39mis\u001b[39;00m \u001b[39mNone\u001b[39;00m \u001b[39mand\u001b[39;00m dtypes\u001b[39m.\u001b[39mis_weakly_typed(\u001b[39mobject\u001b[39m)\n",
      "File \u001b[1;32m~\\AppData\\Local\\Packages\\PythonSoftwareFoundation.Python.3.11_qbz5n2kfra8p0\\LocalCache\\local-packages\\Python311\\site-packages\\jax\\_src\\dtypes.py:604\u001b[0m, in \u001b[0;36mcheck_user_dtype_supported\u001b[1;34m(dtype, fun_name)\u001b[0m\n\u001b[0;32m    602\u001b[0m   msg \u001b[39m=\u001b[39m \u001b[39mf\u001b[39m\u001b[39m\"\u001b[39m\u001b[39mJAX only supports number and bool dtypes, got dtype \u001b[39m\u001b[39m{\u001b[39;00mdtype\u001b[39m}\u001b[39;00m\u001b[39m\"\u001b[39m\n\u001b[0;32m    603\u001b[0m   msg \u001b[39m+\u001b[39m\u001b[39m=\u001b[39m \u001b[39mf\u001b[39m\u001b[39m\"\u001b[39m\u001b[39m in \u001b[39m\u001b[39m{\u001b[39;00mfun_name\u001b[39m}\u001b[39;00m\u001b[39m\"\u001b[39m \u001b[39mif\u001b[39;00m fun_name \u001b[39melse\u001b[39;00m \u001b[39m\"\u001b[39m\u001b[39m\"\u001b[39m\n\u001b[1;32m--> 604\u001b[0m   \u001b[39mraise\u001b[39;00m \u001b[39mTypeError\u001b[39;00m(msg)\n\u001b[0;32m    605\u001b[0m \u001b[39mif\u001b[39;00m dtype \u001b[39mis\u001b[39;00m \u001b[39mnot\u001b[39;00m \u001b[39mNone\u001b[39;00m \u001b[39mand\u001b[39;00m np_dtype \u001b[39m!=\u001b[39m canonicalize_dtype(dtype):\n\u001b[0;32m    606\u001b[0m   msg \u001b[39m=\u001b[39m (\u001b[39m\"\u001b[39m\u001b[39mExplicitly requested dtype \u001b[39m\u001b[39m{}\u001b[39;00m\u001b[39m \u001b[39m\u001b[39m{}\u001b[39;00m\u001b[39m is not available, \u001b[39m\u001b[39m\"\u001b[39m\n\u001b[0;32m    607\u001b[0m          \u001b[39m\"\u001b[39m\u001b[39mand will be truncated to dtype \u001b[39m\u001b[39m{}\u001b[39;00m\u001b[39m. To enable more dtypes, set the \u001b[39m\u001b[39m\"\u001b[39m\n\u001b[0;32m    608\u001b[0m          \u001b[39m\"\u001b[39m\u001b[39mjax_enable_x64 configuration option or the JAX_ENABLE_X64 shell \u001b[39m\u001b[39m\"\u001b[39m\n\u001b[0;32m    609\u001b[0m          \u001b[39m\"\u001b[39m\u001b[39menvironment variable. \u001b[39m\u001b[39m\"\u001b[39m\n\u001b[0;32m    610\u001b[0m          \u001b[39m\"\u001b[39m\u001b[39mSee https://github.com/google/jax#current-gotchas for more.\u001b[39m\u001b[39m\"\u001b[39m)\n",
      "\u001b[1;31mTypeError\u001b[0m: JAX only supports number and bool dtypes, got dtype <class 'object'> in array"
     ]
    }
   ],
   "source": [
    "#REAL trajectory\n",
    "ys_fixed = Euler_jnp(params_fixed)\n",
    "\n",
    "#CELL CENTER\n",
    "Xtrain_fixed = ys_fixed.transpose()\n",
    "sample = MiniBatchKMeans(n_clusters=subset_size).fit(Xtrain_fixed).cluster_centers_"
   ]
  },
  {
   "cell_type": "code",
   "execution_count": 4,
   "metadata": {},
   "outputs": [],
   "source": [
    "#vertices of barycentric simplexes\n",
    "vertices = sample[Delaunay(sample).simplices]\n",
    "\n",
    "#convert the coordinates of a point from Cartesian to Barycentric weights\n",
    "#I use numpy here for now so this runs fast. But we probably need to jax when taking gradient.\n",
    "def car2bar_weight(pt):\n",
    "                                 \n",
    "    #Cartesian coordinates\n",
    "    x, y, z = pt\n",
    "    vec = np.array((1,x,y,z))#vector for barycentric matrix computing\n",
    "    \n",
    "    for i in range(len(vertices)):\n",
    "        #ri: vertices of a Barycentric simplex\n",
    "        r1, r2, r3, r4 = vertices[i]\n",
    "\n",
    "        x1, y1, z1 = r1\n",
    "        x2, y2, z2 = r2\n",
    "        x3, y3, z3 = r3\n",
    "        x4, y4, z4 = r4\n",
    "    \n",
    "        T = np.array(([1., 1., 1., 1.],\n",
    "                      [x1, x2, x3, x4],\n",
    "                      [y1, y2, y3, y4],\n",
    "                      [z1, z2, z3, z4]))\n",
    "        T_inverse = np.linalg.inv(T)\n",
    "        bar = T_inverse.dot(vec)\n",
    "\n",
    "        if np.min(bar)>= 0.:#to make sure the point is inside or on the simplex\n",
    "            return bar\n",
    "        \n"
   ]
  }
 ],
 "metadata": {
  "kernelspec": {
   "display_name": "Python 3",
   "language": "python",
   "name": "python3"
  },
  "language_info": {
   "codemirror_mode": {
    "name": "ipython",
    "version": 3
   },
   "file_extension": ".py",
   "mimetype": "text/x-python",
   "name": "python",
   "nbconvert_exporter": "python",
   "pygments_lexer": "ipython3",
   "version": "3.11.4"
  },
  "orig_nbformat": 4
 },
 "nbformat": 4,
 "nbformat_minor": 2
}
