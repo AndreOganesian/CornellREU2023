{
 "cells": [
  {
   "cell_type": "code",
   "execution_count": 1,
   "id": "e88d1b93",
   "metadata": {
    "tags": []
   },
   "outputs": [
    {
     "name": "stderr",
     "output_type": "stream",
     "text": [
      "2023-07-13 14:31:32.182904: W external/xla/xla/service/platform_util.cc:198] unable to create StreamExecutor for CUDA:0: failed initializing StreamExecutor for CUDA device ordinal 0: INTERNAL: failed call to cuDevicePrimaryCtxRetain: CUDA_ERROR_OUT_OF_MEMORY: out of memory; total memory reported: 12627279872\n",
      "No GPU/TPU found, falling back to CPU. (Set TF_CPP_MIN_LOG_LEVEL=0 and rerun for more info.)\n"
     ]
    }
   ],
   "source": [
    "import numpy as np\n",
    "import jax\n",
    "import jax.numpy as jnp\n",
    "import matplotlib.pyplot as plt\n",
    "import scipy\n",
    "from scipy.spatial import cKDTree\n",
    "from scipy.spatial import Delaunay\n",
    "from scipy.optimize import basinhopping\n",
    "import copy\n",
    "from sklearn.cluster import MiniBatchKMeans\n",
    "from basic_functions import *\n",
    "import time"
   ]
  },
  {
   "cell_type": "code",
   "execution_count": 2,
   "id": "395ed02c-dbd8-43cf-a0b0-e52f8d6e8d6d",
   "metadata": {
    "tags": []
   },
   "outputs": [],
   "source": [
    "#REAL trajectory\n",
    "new_param = change_param(10000, \"length\")\n",
    "ys_fixed = Euler_jnp(new_param)\n",
    "\n",
    "subset_size = 500\n",
    "#CELL CENTER\n",
    "Xtrain_fixed = ys_fixed.transpose()\n",
    "sample = MiniBatchKMeans(n_clusters=subset_size).fit(Xtrain_fixed).cluster_centers_"
   ]
  },
  {
   "cell_type": "code",
   "execution_count": 3,
   "id": "b03215e6-067e-4263-8eaa-2565e0ed45e7",
   "metadata": {
    "tags": []
   },
   "outputs": [],
   "source": [
    "#point indices with respect to voronoi cells\n",
    "\n",
    "def idxs(ys):\n",
    "    point_idxs = []\n",
    "    Xtrain = ys.transpose()#coordinates of points\n",
    "    \n",
    "    for i in range(new_param[\"length\"]):\n",
    "        \n",
    "        distances = np.linalg.norm(sample - Xtrain[i], axis = 1)\n",
    "        #Euclidean distance from the ith point to each cell\n",
    "        \n",
    "        idxs = np.argmin(distances)\n",
    "        point_idxs.append(idxs)\n",
    "    \n",
    "    point_idxs = jnp.array(point_idxs)\n",
    "    \n",
    "    return point_idxs"
   ]
  },
  {
   "cell_type": "code",
   "execution_count": 4,
   "id": "f300991a-ce96-4ecf-8d5a-51133e179546",
   "metadata": {
    "tags": []
   },
   "outputs": [],
   "source": [
    "#cell center of barycentric simplexes\n",
    "vertices_cells = Delaunay(sample).simplices\n",
    "\n",
    "#vertex coordinates of barycentric simplexes\n",
    "vertices = sample[vertices_cells]"
   ]
  },
  {
   "cell_type": "code",
   "execution_count": 5,
   "id": "6943d527",
   "metadata": {
    "tags": []
   },
   "outputs": [],
   "source": [
    "def precompute_barycentric_matrices(vertices):\n",
    "    matrices = []\n",
    "    for simplex in vertices:\n",
    "        #ri: vertices of a Barycentric simplex\n",
    "        r1, r2, r3, r4 = simplex\n",
    "\n",
    "        x1, y1, z1 = r1\n",
    "        x2, y2, z2 = r2\n",
    "        x3, y3, z3 = r3\n",
    "        x4, y4, z4 = r4\n",
    "    \n",
    "        T = np.array(([1., 1., 1., 1.],\n",
    "                      [x1, x2, x3, x4],\n",
    "                      [y1, y2, y3, y4],\n",
    "                      [z1, z2, z3, z4]))\n",
    "        T_inverse = np.linalg.inv(T)\n",
    "        matrices.append(T_inverse)\n",
    "    return matrices"
   ]
  },
  {
   "cell_type": "code",
   "execution_count": 6,
   "id": "0b028c65-7dc2-411e-b302-d52fe7ca2815",
   "metadata": {
    "tags": []
   },
   "outputs": [],
   "source": [
    "\n",
    "#I use numpy here for now so this runs fast. But we probably need to jax when taking gradient.\n",
    "#input:point coordinates\n",
    "#output:(weights, indices)\n",
    "def car2bar_weight(pt, barycentric_matrices):\n",
    "                                 \n",
    "    #Cartesian coordinates\n",
    "    x, y, z = pt\n",
    "    vec = np.array((1,x,y,z))#vector for barycentric matrix computing\n",
    "    for i, mat in enumerate(barycentric_matrices):\n",
    "        #ri: vertices of a Barycentric simplex\n",
    "        bar = mat.dot(vec)\n",
    "\n",
    "        if np.all(bar>= 0.):#to make sure the point is inside or on the simplex\n",
    "            return bar, vertices_cells[i]\n",
    "        \n",
    "    distance = np.linalg.norm(sample - pt, axis = 1)\n",
    "    index = np.argmin(distance)\n",
    "    return np.array([1.]), np.array([index])\n",
    "        \n"
   ]
  },
  {
   "cell_type": "code",
   "execution_count": 7,
   "id": "bc674a4c-867d-4f56-a35c-55539d4a3f15",
   "metadata": {
    "tags": []
   },
   "outputs": [],
   "source": [
    "#generate idxs_tilda\n",
    "def idxs_tilda(ys, barycentric_matrices):\n",
    "    # start_time = time.time()\n",
    "\n",
    "    point_idxs_tilda = np.zeros((subset_size, new_param[\"length\"]))\n",
    "    \n",
    "    Xtrain = ys.transpose()\n",
    "    \n",
    "    for i in range(new_param[\"length\"]):\n",
    "        w, ind = car2bar_weight(Xtrain[i], barycentric_matrices)\n",
    "        for num in range(len(w)):\n",
    "            point_idxs_tilda[ind[num], i] += w[num]\n",
    "        # if time.time() - start_time >= 10:\n",
    "        #             print(f\"i = {i}\")\n",
    "        #             start_time = time.time()\n",
    "            \n",
    "    return point_idxs_tilda"
   ]
  },
  {
   "cell_type": "code",
   "execution_count": 8,
   "id": "a4e2da03",
   "metadata": {
    "tags": []
   },
   "outputs": [],
   "source": [
    "barycentric_matrices = precompute_barycentric_matrices(vertices)\n",
    "point_idxs_tilda = idxs_tilda(ys_fixed, barycentric_matrices)"
   ]
  },
  {
   "cell_type": "code",
   "execution_count": 19,
   "id": "b42b51b0",
   "metadata": {},
   "outputs": [
    {
     "name": "stdout",
     "output_type": "stream",
     "text": [
      "Stored 'markov_matrix' (ndarray)\n"
     ]
    }
   ],
   "source": [
    "#Markov matrix constructed by making the (i, j) entry the sum of the products of the kth entry in the ith row and the (k+1)th entry in the jth row of point_idxs_tilda\n",
    "#Dot product of point_idxs_tilda minus the last row and point_idxs_tilda minus the first row should be the same computation\n",
    "markov_matrix = np.dot(point_idxs_tilda[:, :-1], point_idxs_tilda[:, 1:].T)\n",
    "row_sums = np.sum(point_idxs_tilda, axis = 1)\n",
    "markov_matrix = markov_matrix / row_sums[:, None]\n",
    "%store markov_matrix\n"
   ]
  },
  {
   "cell_type": "code",
   "execution_count": 10,
   "id": "807cc1a8-fed0-435a-bac5-4500bbaa1897",
   "metadata": {},
   "outputs": [],
   "source": [
    "#invariant measure computation\n",
    "def power_method(mat, threshhold=1e-6, max_iterations=10000):\n",
    "    x_prev = np.ones(subset_size)\n",
    "\n",
    "    for _ in range(max_iterations):\n",
    "        x = np.dot(mat, x_prev)\n",
    "        x /= np.sum(x)\n",
    "\n",
    "        # Check convergence\n",
    "        if np.linalg.norm(x - x_prev) < threshhold:\n",
    "            break\n",
    "        x_prev = x.copy()\n",
    "    x /= np.sum(x)\n",
    "    return x\n",
    "\n",
    "#teleportation regularization\n",
    "def teleportation_regularization(mat, alpha = .85):\n",
    "    ones = np.ones(subset_size)\n",
    "    \n",
    "    regularization_term = alpha * (1 / subset_size) * np.outer(ones, ones)\n",
    "    mat_regularized = (1 - alpha) * mat + regularization_term\n",
    "    \n",
    "    return mat_regularized\n",
    "\n",
    "#Power method + teleportation regularization\n",
    "#have markov matrix. depending on quality of data, we can use different methods. \n",
    "#for example, if sparse data (need to figure out what sparse means here - what factors do we NEED and what can we go without) use only invariant measure, \n",
    "#otherwise can use multiple modes( 2nd, 3rd, etc eigenvector)\n",
    "\n",
    "def find_invariant_measure(mat, alpha=1e-4, threshhold=1e-6, max_iterations=10000):\n",
    "    mat_regularized = teleportation_regularization(mat, alpha)\n",
    "    invariant_measure = power_method(mat_regularized, threshhold, max_iterations)\n",
    "    return invariant_measure\n"
   ]
  },
  {
   "cell_type": "code",
   "execution_count": 11,
   "id": "12e31cee-f520-4ce3-8510-e76d562b9fe5",
   "metadata": {
    "tags": []
   },
   "outputs": [],
   "source": [
    "old_markov_matrix = Markov_np(ys_fixed, sample)"
   ]
  },
  {
   "cell_type": "code",
   "execution_count": 12,
   "id": "fb53dcad-65e7-4399-a717-791d191069a2",
   "metadata": {
    "tags": []
   },
   "outputs": [],
   "source": [
    "inv = find_invariant_measure(markov_matrix)\n",
    "old_inv = find_invariant_measure(old_markov_matrix)"
   ]
  },
  {
   "cell_type": "code",
   "execution_count": 13,
   "id": "72e65b81-9d50-413a-901c-d89bbcc49d85",
   "metadata": {
    "tags": []
   },
   "outputs": [
    {
     "data": {
      "text/plain": [
       "0.024200124600623492"
      ]
     },
     "execution_count": 13,
     "metadata": {},
     "output_type": "execute_result"
    }
   ],
   "source": [
    "#L2 distance of invariant measure\n",
    "np.linalg.norm(inv - old_inv)"
   ]
  },
  {
   "cell_type": "code",
   "execution_count": 14,
   "id": "151e8a26-b8bc-409c-885f-5d3da3ec88fd",
   "metadata": {
    "tags": []
   },
   "outputs": [
    {
     "data": {
      "text/plain": [
       "12.73362308691446"
      ]
     },
     "execution_count": 14,
     "metadata": {},
     "output_type": "execute_result"
    }
   ],
   "source": [
    "#Frobenius distance\n",
    "np.linalg.norm(markov_matrix - old_markov_matrix)"
   ]
  },
  {
   "cell_type": "code",
   "execution_count": null,
   "id": "977a1e7d-61c9-4c06-a8bf-be56832180b0",
   "metadata": {},
   "outputs": [],
   "source": []
  }
 ],
 "metadata": {
  "kernelspec": {
   "display_name": "Python 3 (ipykernel)",
   "language": "python",
   "name": "python3"
  },
  "language_info": {
   "codemirror_mode": {
    "name": "ipython",
    "version": 3
   },
   "file_extension": ".py",
   "mimetype": "text/x-python",
   "name": "python",
   "nbconvert_exporter": "python",
   "pygments_lexer": "ipython3",
   "version": "3.10.6"
  }
 },
 "nbformat": 4,
 "nbformat_minor": 5
}
