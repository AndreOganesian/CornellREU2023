{
 "cells": [
  {
   "cell_type": "code",
   "execution_count": 20,
   "id": "e88d1b93",
   "metadata": {},
   "outputs": [],
   "source": [
    "import numpy as np\n",
    "import jax\n",
    "import jax.numpy as jnp\n",
    "import matplotlib.pyplot as plt\n",
    "import scipy\n",
    "from scipy.spatial import cKDTree\n",
    "from scipy.optimize import basinhopping\n",
    "import copy\n",
    "from sklearn.cluster import MiniBatchKMeans"
   ]
  },
  {
   "cell_type": "code",
   "execution_count": 21,
   "id": "72d3a039",
   "metadata": {},
   "outputs": [],
   "source": [
    "#real parameters\n",
    "G_fixed = {\n",
    "    \"thresh\": 0.00002,\n",
    "    \"dt\": 0.005, #sampling frequency\n",
    "    \"sigma\": 10,\n",
    "    \"beta\": 1.5,\n",
    "    \"rho\": 40,\n",
    "    \"alpha\": 1e-4,\n",
    "    \"length\": #int(1e06 + 1)\n",
    "              int(1e05)\n",
    "              #int(1e04)\n",
    "    # Trajectory Length\n",
    "    \n",
    "}\n",
    "G = copy.deepcopy(G_fixed)\n",
    "#new params\n",
    "def change_param(new, param = \"beta\"):\n",
    "    G[param] = new\n",
    "    return G\n",
    "\n",
    "# Define the Lorenz-63 System\n",
    "#@jax.jit\n",
    "def Lorenz(y, G):\n",
    "    dx1 = G[\"sigma\"] * (y[1] - y[0])\n",
    "    dx2 = y[0] * (G[\"rho\"] - y[2]) - y[1]\n",
    "    dx3 = y[0] * y[1] - G[\"beta\"] * y[2]\n",
    "    f = np.array((dx1, dx2, dx3), dtype = object).flatten()#.reshape(3, 1)\n",
    "    return f\n",
    "\n",
    "# Set initial values and parameters\n",
    "start = np.array((1., 1., 1.))#.reshape(3, 1)\n",
    "nt = 1 #transition step size\n",
    "subset_size = 300 #cell number\n",
    "\n",
    "def Euler(G):\n",
    "    y = start\n",
    "    ys = np.zeros((G[\"length\"],3))\n",
    "    for timestep in range(G[\"length\"]): \n",
    "        \n",
    "        y = y + G[\"dt\"] * Lorenz(y, G)\n",
    "        #print(y)\n",
    "        ys[timestep] = np.array(y)\n",
    "        #ys[timestep] = y\n",
    "    \n",
    "    return ys.transpose()\n",
    "# def Euler(G):\n",
    "#     y = start\n",
    "#     #ys = jnp.zeros((G[\"length\"],3))\n",
    "#     ys = []\n",
    "#     for timestep in range(G[\"length\"]): \n",
    "        \n",
    "#         y = y + G[\"dt\"] * Lorenz(y, G)\n",
    "\n",
    "#         ys.append(y)\n",
    "\n",
    "    \n",
    "#     return np.array(ys,dtype=object).transpose()"
   ]
  },
  {
   "cell_type": "code",
   "execution_count": 22,
   "id": "3b65e15a",
   "metadata": {},
   "outputs": [],
   "source": [
    "#REAL trajectory\n",
    "ys_fixed = Euler(G_fixed)\n",
    "\n"
   ]
  },
  {
   "cell_type": "code",
   "execution_count": 23,
   "id": "395ed02c-dbd8-43cf-a0b0-e52f8d6e8d6d",
   "metadata": {
    "tags": []
   },
   "outputs": [],
   "source": [
    "#CELL CENTER\n",
    "Xtrain_fixed = ys_fixed.transpose()\n",
    "sample = MiniBatchKMeans(n_clusters=subset_size).fit(Xtrain_fixed).cluster_centers_"
   ]
  },
  {
   "cell_type": "code",
   "execution_count": 24,
   "id": "3561f5ff",
   "metadata": {},
   "outputs": [],
   "source": [
    "\n",
    "#contruct Markov matrix\n",
    "\n",
    "# def Markov(ys, sample):\n",
    "#     point_idxs = []\n",
    "#     for i in range(G[\"length\"]):\n",
    "#         Xtrain = ys.transpose()\n",
    "#         distances = jnp.linalg.norm(sample - Xtrain[i], axis = 1)\n",
    "#         idxs = jnp.argmin(distances)\n",
    "#         point_idxs.append(idxs)\n",
    "    \n",
    "#     point_idxs = jnp.array(point_idxs)    \n",
    "\n",
    "#     #print(len(point_idxs))\n",
    "\n",
    "#     lp = len(point_idxs)\n",
    "\n",
    "#     transitions = point_idxs[nt:lp] - point_idxs[0:(lp - nt)]\n",
    "#     cellEdge = jnp.flatnonzero(transitions) + 1\n",
    "\n",
    "    \n",
    "#     # Build markov matrix\n",
    "#     M_mat = jnp.zeros((subset_size, subset_size))\n",
    "#     for ind in range(0, len(cellEdge) - nt):\n",
    "#         ce = cellEdge[ind] \n",
    "#         M_mat = M_mat.at[point_idxs[ce],point_idxs[ce+nt]].add(1.)\n",
    "#         #print(point_idxs[ce],point_idxs[ce+nt])\n",
    "\n",
    "#     # Normalize rows\n",
    "#     row_sums = jnp.sum(M_mat, axis=1)\n",
    "#     for i in range(subset_size):\n",
    "#         if row_sums[i] != 0:\n",
    "#             M_mat = M_mat.at[:,i].divide(row_sums[i])\n",
    "\n",
    "#     return M_mat\n",
    "\n",
    "def Markov(ys, sample):\n",
    "\n",
    "    tree = cKDTree(sample)\n",
    "    point_dst, point_idxs = tree.query(ys.transpose()) \n",
    "    \n",
    "    lp = len(point_idxs)\n",
    "\n",
    "    transitions = point_idxs[nt:lp] - point_idxs[0:(lp - nt)]\n",
    "    cellEdge = np.flatnonzero(transitions) + 1\n",
    "    \n",
    "    # Build markov matrix\n",
    "    M_mat = np.zeros((subset_size, subset_size))\n",
    "    for ind in range(0, len(cellEdge) - nt):\n",
    "        ce = cellEdge[ind] \n",
    "        M_mat[point_idxs[ce],point_idxs[ce+nt]] += 1.0\n",
    "\n",
    "    # Normalize rows\n",
    "    row_sums = np.sum(M_mat, axis=1)\n",
    "    for i in range(subset_size):\n",
    "        if row_sums[i] != 0:\n",
    "            M_mat[:,i] = M_mat[:,i]/row_sums[i]\n",
    "\n",
    "    return M_mat"
   ]
  },
  {
   "cell_type": "code",
   "execution_count": 25,
   "id": "ced21e2c",
   "metadata": {},
   "outputs": [
    {
     "data": {
      "text/plain": [
       "<matplotlib.lines.Line2D at 0x7f735595c6a0>"
      ]
     },
     "execution_count": 25,
     "metadata": {},
     "output_type": "execute_result"
    },
    {
     "data": {
      "image/png": "[encoded data removed]",
      "text/plain": [
       "<Figure size 360x360 with 1 Axes>"
      ]
     },
     "metadata": {
      "needs_background": "light"
     },
     "output_type": "display_data"
    }
   ],
   "source": [
    "#REAL Markov matrix\n",
    "M_mat0 = Markov(ys_fixed, sample)\n",
    "\n",
    "#sanity check of Markov matrix\n",
    "fig = plt.figure(figsize=(5, 5))\n",
    "plt.spy(M_mat0, precision=0, marker=None, markersize=1, aspect='equal', origin='upper')"
   ]
  },
  {
   "cell_type": "code",
   "execution_count": 26,
   "id": "da2ce3df",
   "metadata": {},
   "outputs": [],
   "source": [
    "# Creates matrix from trajectory based on parameter\n",
    "\n",
    "def matrix_original_cells(param):\n",
    "     return Markov(Euler(change_param(param)), sample)# + noise\n",
    "\n",
    "def obj_fun_original_traj(params):\n",
    "    output = []\n",
    "    for i in range(len(params)):\n",
    "        output.append(matrix_original_cells(param))\n",
    "    return jnp.array(output)\n",
    "\n",
    "\n",
    "#BUILDS MATRIX AND TRANSITIONS WITH A COMBINATION OF TRAJECTORIES\n",
    "# def matrix_new_cells(param):\n",
    "#     ys_new = Euler(change_param(param))\n",
    "#     XTrain_new = jnp.concatenate([ys_fixed, ys_new], axis = 1)\n",
    "#     Xtrain_new = XTrain_new.transpose()\n",
    "#     sample_new = MiniBatchKMeans(n_clusters=subset_size).fit(Xtrain_new).cluster_centers_\n",
    "#     return Markov(ys_new, sample_new)\n",
    "\n",
    "# def obj_fun_new_traj(params):\n",
    "#     output = []\n",
    "#     for param in params:\n",
    "#         output.append(matrix_new_cells(param))\n",
    "#     return output"
   ]
  },
  {
   "cell_type": "code",
   "execution_count": 27,
   "id": "27833d6d",
   "metadata": {},
   "outputs": [],
   "source": [
    "def mat_frobenius_norm(test_mat):\n",
    "    # return math.sqrt(sum(sum((true_mat - test_mat)**2)))\n",
    "    return np.linalg.norm(M_mat0 - test_mat)\n",
    "\n",
    "\n",
    "# def mat_comparison(matrices):\n",
    "#     norms = []\n",
    "#     grads = []\n",
    "#     for new_mat in matrices:\n",
    "#         norm, grad = jax.value_and_grad(mat_frobenius_norm)(new_mat)\n",
    "#         norms.append(mat_frobenius_norm(new_mat))\n",
    "#         grads.append(grad)        \n",
    "    \n",
    "#     return norms, grads\n",
    "\n",
    "# def finite_diff_approx(sigma_values, delta_sigma = 1e-8):\n",
    "#     approx_grads = []\n",
    "#     for sigma in sigma_values:\n",
    "#         true_mat = obj_fun_original_traj([sigma])[0]\n",
    "#         matrix_plus = obj_fun_original_traj([sigma + delta_sigma])[0]\n",
    "#         matrix_minus = obj_fun_original_traj([sigma - delta_sigma])[0]\n",
    "#         mat_plus_norm, _ = mat_comparison(true_mat, matrix_plus)\n",
    "#         mat_minus_norm, _ = mat_comparison(true_mat, matrix_minus)\n",
    "\n",
    "#         approx_grad = (mat_plus_norm[0] - mat_minus_norm[0]) / (2 * delta_sigma)\n",
    "#         approx_grads.append(approx_grad)\n",
    "#     return approx_grads\n",
    "\n",
    "\n",
    "#def finite_diff_approx(values, delta_val = 1e-8):"
   ]
  },
  {
   "cell_type": "code",
   "execution_count": 28,
   "id": "cc504d87-39e2-4aec-8359-bf467ab9238b",
   "metadata": {
    "tags": []
   },
   "outputs": [],
   "source": [
    "beta_values = np.arange(1, 3, .25)\n",
    "mat_beta = []\n",
    "for i in range(len(beta_values)):\n",
    "    mat_beta.append(mat_frobenius_norm(matrix_original_cells(beta_values[i])))\n",
    "mat_beta = np.array(mat_beta)"
   ]
  },
  {
   "cell_type": "code",
   "execution_count": 29,
   "id": "180d983e-3917-4093-b33b-91a5c3d6c600",
   "metadata": {
    "tags": []
   },
   "outputs": [
    {
     "data": {
      "image/png": "[encoded data removed]",
      "text/plain": [
       "<Figure size 432x288 with 1 Axes>"
      ]
     },
     "metadata": {
      "needs_background": "light"
     },
     "output_type": "display_data"
    }
   ],
   "source": [
    "plt.scatter(beta_values, mat_beta)\n",
    "plt.xlabel(\"beta\")\n",
    "plt.ylabel(\"Frobenius Distance\")\n",
    "plt.show()"
   ]
  },
  {
   "cell_type": "code",
   "execution_count": 19,
   "id": "025340dc",
   "metadata": {
    "tags": []
   },
   "outputs": [],
   "source": [
    "# PERFORMING TESTS ON COMBINATION OF TRAJECTORIES\n",
    "\n",
    "# rho_values = np.arange(30, 50, 2.5)\n",
    "# resulting_mats = obj_fun_new_traj(sigma_values)\n",
    "\n",
    "# resulting_norms, resulting_grads = mat_comparison(M_mat0, resulting_mats)\n",
    "# resulting_norms = np.delete(resulting_norms, 15)\n",
    "# sigma_values = np.delete(sigma_values, 15)\n",
    "# plt.scatter(sigma_values, resulting_norms)\n",
    "# plt.xlabel(\"sigma\")\n",
    "# plt.ylabel('Frobenius distance')\n",
    "# plt.show()"
   ]
  }
 ],
 "metadata": {
  "kernelspec": {
   "display_name": "Python 3 (ipykernel)",
   "language": "python",
   "name": "python3"
  },
  "language_info": {
   "codemirror_mode": {
    "name": "ipython",
    "version": 3
   },
   "file_extension": ".py",
   "mimetype": "text/x-python",
   "name": "python",
   "nbconvert_exporter": "python",
   "pygments_lexer": "ipython3",
   "version": "3.10.6"
  }
 },
 "nbformat": 4,
 "nbformat_minor": 5
}
