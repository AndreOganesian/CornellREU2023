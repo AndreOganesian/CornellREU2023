{
 "cells": [
  {
   "cell_type": "code",
   "execution_count": 1,
   "id": "e88d1b93",
   "metadata": {
    "tags": []
   },
   "outputs": [
    {
     "name": "stderr",
     "output_type": "stream",
     "text": [
      "WARNING:absl:No GPU/TPU found, falling back to CPU. (Set TF_CPP_MIN_LOG_LEVEL=0 and rerun for more info.)\n"
     ]
    }
   ],
   "source": [
    "import numpy as np\n",
    "import jax\n",
    "import jax.numpy as jnp\n",
    "import matplotlib.pyplot as plt\n",
    "import scipy\n",
    "from scipy.spatial import cKDTree\n",
    "from scipy.spatial import Delaunay\n",
    "from scipy.optimize import basinhopping\n",
    "import copy\n",
    "from sklearn.cluster import MiniBatchKMeans\n",
    "from basic_functions import *\n",
    "import time"
   ]
  },
  {
   "cell_type": "code",
   "execution_count": 2,
   "id": "395ed02c-dbd8-43cf-a0b0-e52f8d6e8d6d",
   "metadata": {
    "tags": []
   },
   "outputs": [],
   "source": [
    "#REAL trajectory\n",
    "new_param = change_param(10000, \"length\")\n",
    "ys_fixed = Euler_jnp(new_param)\n",
    "\n",
    "subset_size = 500\n",
    "#CELL CENTER\n",
    "Xtrain_fixed = ys_fixed.transpose()\n",
    "sample = MiniBatchKMeans(n_clusters=subset_size).fit(Xtrain_fixed).cluster_centers_"
   ]
  },
  {
   "cell_type": "code",
   "execution_count": 3,
   "id": "b03215e6-067e-4263-8eaa-2565e0ed45e7",
   "metadata": {
    "tags": []
   },
   "outputs": [],
   "source": [
    "#point indices with respect to voronoi cells\n",
    "\n",
    "def idxs(ys):\n",
    "    point_idxs = []\n",
    "    Xtrain = ys.transpose()#coordinates of points\n",
    "    \n",
    "    for i in range(new_param[\"length\"]):\n",
    "        \n",
    "        distances = np.linalg.norm(sample - Xtrain[i], axis = 1)\n",
    "        #Euclidean distance from the ith point to each cell\n",
    "        \n",
    "        idxs = np.argmin(distances)\n",
    "        point_idxs.append(idxs)\n",
    "    \n",
    "    point_idxs = jnp.array(point_idxs)\n",
    "    \n",
    "    return point_idxs"
   ]
  },
  {
   "cell_type": "code",
   "execution_count": 4,
   "id": "f300991a-ce96-4ecf-8d5a-51133e179546",
   "metadata": {
    "tags": []
   },
   "outputs": [],
   "source": [
    "#cell center of barycentric simplexes\n",
    "vertices_cells = Delaunay(sample).simplices\n",
    "\n",
    "#vertex coordinates of barycentric simplexes\n",
    "vertices = sample[vertices_cells]"
   ]
  },
  {
   "cell_type": "code",
   "execution_count": 5,
   "id": "6943d527",
   "metadata": {
    "tags": []
   },
   "outputs": [],
   "source": [
    "def precompute_barycentric_matrices(vertices):\n",
    "    matrices = []\n",
    "    for simplex in vertices:\n",
    "        #ri: vertices of a Barycentric simplex\n",
    "        r1, r2, r3, r4 = simplex\n",
    "\n",
    "        x1, y1, z1 = r1\n",
    "        x2, y2, z2 = r2\n",
    "        x3, y3, z3 = r3\n",
    "        x4, y4, z4 = r4\n",
    "    \n",
    "        T = np.array(([1., 1., 1., 1.],\n",
    "                      [x1, x2, x3, x4],\n",
    "                      [y1, y2, y3, y4],\n",
    "                      [z1, z2, z3, z4]))\n",
    "        T_inverse = np.linalg.inv(T)\n",
    "        matrices.append(T_inverse)\n",
    "    return matrices"
   ]
  },
  {
   "cell_type": "code",
   "execution_count": 6,
   "id": "0b028c65-7dc2-411e-b302-d52fe7ca2815",
   "metadata": {
    "tags": []
   },
   "outputs": [],
   "source": [
    "\n",
    "#I use numpy here for now so this runs fast. But we probably need to jax when taking gradient.\n",
    "#input:point coordinates\n",
    "#output:(weights, indices)\n",
    "def car2bar_weight(pt, barycentric_matrices):\n",
    "                                 \n",
    "    #Cartesian coordinates\n",
    "    x, y, z = pt\n",
    "    vec = jnp.array((1,x,y,z))#vector for barycentric matrix computing\n",
    "    for i, mat in enumerate(barycentric_matrices):\n",
    "        #ri: vertices of a Barycentric simplex\n",
    "        bar = jnp.dot(mat,vec)\n",
    "\n",
    "        if jnp.all(bar>= 0.):#to make sure the point is inside or on the simplex\n",
    "            return bar, vertices_cells[i]\n",
    "        \n",
    "    distance = jnp.linalg.norm(sample - pt, axis = 1)\n",
    "    index = jnp.argmin(distance)\n",
    "    return jnp.array([1.]), jnp.array([index])\n",
    "        \n"
   ]
  },
  {
   "cell_type": "code",
   "execution_count": 7,
   "id": "bc674a4c-867d-4f56-a35c-55539d4a3f15",
   "metadata": {
    "tags": []
   },
   "outputs": [],
   "source": [
    "#generate idxs_tilda\n",
    "def idxs_tilda(ys, barycentric_matrices):\n",
    "    # start_time = time.time()\n",
    "\n",
    "    point_idxs_tilda = jnp.zeros((subset_size, new_param[\"length\"]))\n",
    "    \n",
    "    Xtrain = ys.transpose()\n",
    "    \n",
    "    for i in range(new_param[\"length\"]):\n",
    "        w, ind = car2bar_weight(Xtrain[i], barycentric_matrices)\n",
    "        for num in range(len(w)):\n",
    "            point_idxs_tilda = point_idxs_tilda.at[ind[num], i].add(w[num])\n",
    "        # if time.time() - start_time >= 10:\n",
    "        #             print(f\"i = {i}\")\n",
    "        #             start_time = time.time()\n",
    "            \n",
    "    return point_idxs_tilda"
   ]
  },
  {
   "cell_type": "code",
   "execution_count": null,
   "id": "a4e2da03",
   "metadata": {
    "tags": []
   },
   "outputs": [],
   "source": [
    "barycentric_matrices = precompute_barycentric_matrices(vertices)\n",
    "point_idxs_tilda = idxs_tilda(ys_fixed, barycentric_matrices)"
   ]
  },
  {
   "cell_type": "code",
   "execution_count": null,
   "id": "b42b51b0",
   "metadata": {},
   "outputs": [],
   "source": [
    "#Markov matrix constructed by making the (i, j) entry the sum of the products of the kth entry in the ith row and the (k+1)th entry in the jth row of point_idxs_tilda\n",
    "#Dot product of point_idxs_tilda minus the last row and point_idxs_tilda minus the first row should be the same computation\n",
    "markov_matrix = np.dot(point_idxs_tilda[:, :-1], point_idxs_tilda[:, 1:].T)\n",
    "row_sums = np.sum(point_idxs_tilda, axis = 1)\n",
    "markov_matrix = markov_matrix / row_sums[:, None]"
   ]
  },
  {
   "cell_type": "code",
   "execution_count": null,
   "id": "f976a53c-a0c8-44be-a5ca-5553b57ef671",
   "metadata": {},
   "outputs": [],
   "source": [
    "def modified_markov(ys):\n",
    "    pt_idxs_tilda = idxs_tilda(ys, barycentric_matrices)\n",
    "    markov = jnp.dot(pt_idxs_tilda[:, :-1], pt_idxs_tilda[:, 1:].T)\n",
    "    r_sums = jnp.sum(pt_idxs_tilda, axis = 1)\n",
    "    new_sums = r_sums[:,None]\n",
    "    new_sums.at[new_sums == 0].add(1.)#for ghost simplices\n",
    "    return markov / new_sums"
   ]
  },
  {
   "cell_type": "code",
   "execution_count": null,
   "id": "f6e43425-a958-4e91-a8a6-826e9044a08d",
   "metadata": {},
   "outputs": [],
   "source": [
    "def param2dist_rho(param):\n",
    "    new_param = change_param(param, \"rho\")\n",
    "    ys = Euler_jnp(new_param)\n",
    "    return jnp.linalg.norm(modified_markov(ys) - markov_matrix)"
   ]
  },
  {
   "cell_type": "code",
   "execution_count": null,
   "id": "c92d4ebd-060a-47d3-903b-8cdda1dcedfe",
   "metadata": {
    "tags": []
   },
   "outputs": [],
   "source": [
    "# markov_test = jnp.dot(pt_idxs_tilda_test[:, :-1], pt_idxs_tilda_test[:, 1:].T)"
   ]
  },
  {
   "cell_type": "code",
   "execution_count": null,
   "id": "b2e53b7e-6c62-4692-b5bf-597b8c898403",
   "metadata": {
    "tags": []
   },
   "outputs": [],
   "source": [
    "# ys_37 = Euler_jnp(change_param(37., \"rho\"))"
   ]
  },
  {
   "cell_type": "code",
   "execution_count": null,
   "id": "5484d4db-fda5-49a2-aea4-a4f57ac28db3",
   "metadata": {
    "tags": []
   },
   "outputs": [],
   "source": [
    "# pt_idxs_tilda_test = idxs_tilda(ys_37, barycentric_matrices)"
   ]
  },
  {
   "cell_type": "code",
   "execution_count": null,
   "id": "bd79c5b6-5f72-4b2f-bf6f-19e9d93dd38a",
   "metadata": {
    "tags": []
   },
   "outputs": [],
   "source": [
    "# r_sums_test = jnp.sum(pt_idxs_tilda_test, axis = 1)"
   ]
  },
  {
   "cell_type": "code",
   "execution_count": null,
   "id": "ddeaba26-ad16-4c59-9d20-9b2a2b98ee0b",
   "metadata": {
    "tags": []
   },
   "outputs": [],
   "source": []
  },
  {
   "cell_type": "code",
   "execution_count": null,
   "id": "eb7bc631-9b20-4c06-8fab-49f228eed435",
   "metadata": {
    "tags": []
   },
   "outputs": [],
   "source": [
    "gradient = jax.grad(param2dist_rho)"
   ]
  },
  {
   "cell_type": "code",
   "execution_count": null,
   "id": "b4a0080c-aa3e-4d1c-8e76-3db3551ee05a",
   "metadata": {
    "tags": []
   },
   "outputs": [],
   "source": [
    "gradient(37.)\n"
   ]
  },
  {
   "cell_type": "code",
   "execution_count": null,
   "id": "8de104a9-c721-4b1c-afe3-aabfeda2a038",
   "metadata": {},
   "outputs": [],
   "source": []
  },
  {
   "cell_type": "code",
   "execution_count": null,
   "id": "82ef164b-a48b-43da-810b-36c55a2630ef",
   "metadata": {},
   "outputs": [],
   "source": []
  },
  {
   "cell_type": "code",
   "execution_count": null,
   "id": "31359557",
   "metadata": {},
   "outputs": [],
   "source": []
  }
 ],
 "metadata": {
  "kernelspec": {
   "display_name": "Python 3",
   "language": "python",
   "name": "python3"
  },
  "language_info": {
   "codemirror_mode": {
    "name": "ipython",
    "version": 3
   },
   "file_extension": ".py",
   "mimetype": "text/x-python",
   "name": "python",
   "nbconvert_exporter": "python",
   "pygments_lexer": "ipython3",
   "version": "3.8.8"
  }
 },
 "nbformat": 4,
 "nbformat_minor": 5
}
