{
 "cells": [
  {
   "cell_type": "code",
   "execution_count": 153,
   "id": "b8f675ff-27b7-4005-b757-cd3fa6cb7c9a",
   "metadata": {
    "tags": []
   },
   "outputs": [],
   "source": [
    "import numpy as np"
   ]
  },
  {
   "cell_type": "code",
   "execution_count": 154,
   "id": "7f516023-c378-4a4a-8cba-8ba824f87214",
   "metadata": {},
   "outputs": [],
   "source": [
    "G = {\n",
    "    \"length\": 100\n",
    "}"
   ]
  },
  {
   "cell_type": "code",
   "execution_count": 155,
   "id": "d4270560-ffc3-4297-8727-a5c0a19a644d",
   "metadata": {
    "tags": []
   },
   "outputs": [],
   "source": [
    "#cat map\n",
    "def cat(starts):\n",
    "    num = len(starts)\n",
    "    outputs = np.zeros((num, 2))\n",
    "    for i in range(num):\n",
    "        x, y = starts[i][0], starts[i][1]\n",
    "        output = np.array([(x + y) % 1, (x + 2 * y) % 1])\n",
    "        outputs[i] += output\n",
    "\n",
    "    return outputs\n"
   ]
  },
  {
   "cell_type": "code",
   "execution_count": 156,
   "id": "03433269-34da-4f67-88d2-4b2e584f3c26",
   "metadata": {},
   "outputs": [],
   "source": [
    "#initial conditions\n",
    "start_pts = np.array(([.1, .5],[.8, .8]))\n",
    "traj_num = len(start_pts)"
   ]
  },
  {
   "cell_type": "code",
   "execution_count": 157,
   "id": "bbe87ead-130f-4c80-8712-de55a1f26cf0",
   "metadata": {},
   "outputs": [],
   "source": [
    "#trajectory simulation\n",
    "def trajectories(starts = start_pts):\n",
    "    length = G[\"length\"]\n",
    "    traj = np.zeros((G[\"length\"], traj_num, 2))\n",
    "    y = starts\n",
    "    for i in range(length):\n",
    "        traj[i] += y\n",
    "        y = cat(y)\n",
    "    return np.array(traj)\n",
    "        "
   ]
  },
  {
   "cell_type": "code",
   "execution_count": 158,
   "id": "93f19591-83c2-4b64-9f1e-f8dddeb96b05",
   "metadata": {
    "tags": []
   },
   "outputs": [],
   "source": [
    "#trajectory\n",
    "Xtrain = trajectories()"
   ]
  },
  {
   "cell_type": "code",
   "execution_count": 160,
   "id": "af4b3c98-95eb-4e4c-b6b8-aa2a20e4fc2a",
   "metadata": {
    "tags": []
   },
   "outputs": [],
   "source": [
    "#find cell_centers\n",
    "def cell_centers(num, traj = Xtrain):\n",
    "    pts = np.concatenate(traj,0)\n",
    "    length = len(pts)\n",
    "    indices = np.random.choice(length, num)\n",
    "    centers = np.zeros((num, 2))\n",
    "    for i in range(num):\n",
    "        index = indices[i]\n",
    "        #print(index)\n",
    "        #print(pts[index])\n",
    "        centers[i] += pts[:][index]\n",
    "        \n",
    "    return centers"
   ]
  },
  {
   "cell_type": "code",
   "execution_count": 161,
   "id": "e2ba64f9-6903-4b3d-a2d3-22260380bc52",
   "metadata": {
    "tags": []
   },
   "outputs": [],
   "source": [
    "#cell_centers\n",
    "sample = cell_centers(5)\n",
    "\n",
    "#NEIGHBOR SEARCHING\n",
    "#compute distance\n"
   ]
  },
  {
   "cell_type": "code",
   "execution_count": null,
   "id": "b57eaa5e-1a91-4735-873c-2fc0120e4d69",
   "metadata": {},
   "outputs": [],
   "source": []
  }
 ],
 "metadata": {
  "kernelspec": {
   "display_name": "Python 3 (ipykernel)",
   "language": "python",
   "name": "python3"
  },
  "language_info": {
   "codemirror_mode": {
    "name": "ipython",
    "version": 3
   },
   "file_extension": ".py",
   "mimetype": "text/x-python",
   "name": "python",
   "nbconvert_exporter": "python",
   "pygments_lexer": "ipython3",
   "version": "3.10.6"
  }
 },
 "nbformat": 4,
 "nbformat_minor": 5
}
