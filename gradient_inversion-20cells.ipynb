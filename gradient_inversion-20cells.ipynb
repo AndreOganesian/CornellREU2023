{
 "cells": [
  {
   "cell_type": "code",
   "execution_count": 2,
   "id": "e88d1b93",
   "metadata": {
    "tags": []
   },
   "outputs": [
    {
     "name": "stderr",
     "output_type": "stream",
     "text": [
      "WARNING:absl:No GPU/TPU found, falling back to CPU. (Set TF_CPP_MIN_LOG_LEVEL=0 and rerun for more info.)\n"
     ]
    }
   ],
   "source": [
    "import numpy as np\n",
    "import jax\n",
    "import jax.numpy as jnp\n",
    "import matplotlib.pyplot as plt\n",
    "import scipy\n",
    "from scipy.spatial import cKDTree\n",
    "from scipy.spatial import Delaunay\n",
    "from scipy.optimize import basinhopping\n",
    "import copy\n",
    "from sklearn.cluster import MiniBatchKMeans\n",
    "from basic_functions import *\n",
    "import time"
   ]
  },
  {
   "cell_type": "code",
   "execution_count": 3,
   "id": "395ed02c-dbd8-43cf-a0b0-e52f8d6e8d6d",
   "metadata": {
    "tags": []
   },
   "outputs": [],
   "source": [
    "#REAL trajectory\n",
    "new_param = change_param(1000, \"length\")\n",
    "ys_fixed = Euler_jnp(new_param)\n",
    "\n",
    "subset_size = 20\n",
    "#CELL CENTER\n",
    "Xtrain_fixed = ys_fixed.transpose()\n",
    "sample = MiniBatchKMeans(n_clusters=subset_size).fit(Xtrain_fixed).cluster_centers_"
   ]
  },
  {
   "cell_type": "code",
   "execution_count": 4,
   "id": "f300991a-ce96-4ecf-8d5a-51133e179546",
   "metadata": {
    "tags": []
   },
   "outputs": [],
   "source": [
    "\n",
    "\n",
    "Dtri = Delaunay(sample)\n",
    "vertices_cells = Dtri.simplices #indices of cell centers corresponding to barycentric vectices\n",
    "\n",
    "#vertex coordinates of barycentric simplexes\n",
    "vertices = sample[vertices_cells]"
   ]
  },
  {
   "cell_type": "code",
   "execution_count": 6,
   "id": "6943d527",
   "metadata": {
    "tags": []
   },
   "outputs": [],
   "source": [
    "#input:simplex coordinates; output: barycentrix matrix\n",
    "def precompute_barycentric_matrix(simplex):\n",
    "\n",
    "    r1, r2, r3, r4 = simplex\n",
    "\n",
    "    x1, y1, z1 = r1\n",
    "    x2, y2, z2 = r2\n",
    "    x3, y3, z3 = r3\n",
    "    x4, y4, z4 = r4\n",
    "    \n",
    "    T = np.array(([1., 1., 1., 1.],\n",
    "                    [x1, x2, x3, x4],\n",
    "                    [y1, y2, y3, y4],\n",
    "                    [z1, z2, z3, z4]))\n",
    "    T_inverse = np.linalg.inv(T)\n",
    "\n",
    "    return T_inverse"
   ]
  },
  {
   "cell_type": "code",
   "execution_count": 7,
   "id": "273c80a4-66d0-4bcb-a7a8-3d2a969a99d2",
   "metadata": {
    "tags": []
   },
   "outputs": [],
   "source": [
    "\n",
    "#which simplex a point in the real trajectory is in\n",
    "simplex_idxs_fixed = np.zeros(new_param[\"length\"])\n",
    "for i in range(new_param[\"length\"]):\n",
    "    simplex_idxs_fixed[i] += Delaunay.find_simplex(Dtri, Xtrain_fixed[i])\n",
    "    \n",
    "simplex_idxs_fixed = jnp.array(simplex_idxs_fixed).astype(int)"
   ]
  },
  {
   "cell_type": "code",
   "execution_count": 8,
   "id": "cf2ccb44-ab78-4fbf-bbf5-509402b098fe",
   "metadata": {
    "tags": []
   },
   "outputs": [],
   "source": [
    "#rho == 44.\n",
    "new_param_44 = copy.deepcopy(new_param)\n",
    "new_param_44[\"rho\"] = 44.\n",
    "#rho44 trajectory\n",
    "ys_44 = Euler_jnp(new_param_44)\n",
    "Xtrain_44 = ys_44.transpose()\n",
    "\n",
    "#which simplex a point in the real trajectory is in\n",
    "simplex_idxs_44 = np.zeros(new_param[\"length\"])\n",
    "for i in range(new_param[\"length\"]):\n",
    "    simplex_idxs_44[i] += Delaunay.find_simplex(Dtri, Xtrain_44[i])\n",
    "    \n",
    "simplex_idxs_44 = jnp.array(simplex_idxs_44).astype(int)"
   ]
  },
  {
   "cell_type": "code",
   "execution_count": 9,
   "id": "60d1adde-b7e1-4dac-95b9-f0547425f0a9",
   "metadata": {},
   "outputs": [],
   "source": [
    "#rho == 41.\n",
    "new_param_41 = copy.deepcopy(new_param)\n",
    "new_param_41[\"rho\"] = 41.\n",
    "#rho41 trajectory\n",
    "ys_41 = Euler_jnp(new_param_41)\n",
    "Xtrain_41 = ys_41.transpose()\n",
    "\n",
    "#which simplex a point in the real trajectory is in\n",
    "simplex_idxs_41 = np.zeros(new_param[\"length\"])\n",
    "for i in range(new_param[\"length\"]):\n",
    "    simplex_idxs_41[i] += Delaunay.find_simplex(Dtri, Xtrain_41[i])\n",
    "    \n",
    "simplex_idxs_41 = jnp.array(simplex_idxs_41).astype(int)"
   ]
  },
  {
   "cell_type": "code",
   "execution_count": 10,
   "id": "5848a9e9-fbdf-4105-ae7c-71f54c1cbf90",
   "metadata": {},
   "outputs": [],
   "source": [
    "#rho == 37.\n",
    "new_param_37 = copy.deepcopy(new_param)\n",
    "new_param_37[\"rho\"] = 37.\n",
    "#rho37 trajectory\n",
    "ys_37 = Euler_jnp(new_param_37)\n",
    "Xtrain_37 = ys_37.transpose()\n",
    "\n",
    "#which simplex a point in the real trajectory is in\n",
    "simplex_idxs_37 = np.zeros(new_param[\"length\"])\n",
    "for i in range(new_param[\"length\"]):\n",
    "    simplex_idxs_37[i] += Delaunay.find_simplex(Dtri, Xtrain_37[i])\n",
    "    \n",
    "simplex_idxs_37 = jnp.array(simplex_idxs_37).astype(int)"
   ]
  },
  {
   "cell_type": "code",
   "execution_count": 11,
   "id": "0b028c65-7dc2-411e-b302-d52fe7ca2815",
   "metadata": {
    "tags": []
   },
   "outputs": [],
   "source": [
    "\n",
    "#input:trajectory\n",
    "#output:jnp array of (weights, indices)\n",
    "def car2bar_weight(ys, simplex_idxs = simplex_idxs_fixed):   \n",
    "    weights_coords = []\n",
    "    Xtrain = ys.transpose()\n",
    "    for i in range(new_param[\"length\"]):\n",
    "        pt = Xtrain[i]\n",
    "    #Cartesian coordinates\n",
    "        x, y, z = pt\n",
    "        vec = jnp.array((1,x,y,z))#vector for barycentric matrix computing\n",
    "        simplex_index = simplex_idxs[i]\n",
    "        \n",
    "        #if not inside simplex\n",
    "        if simplex_index == -1 :\n",
    "            distance = jnp.linalg.norm(sample - pt, axis = 1)\n",
    "            index = np.argmin(distance)\n",
    "            weights_coords.append((jnp.array([1., 0., 0., 0.]), \n",
    "                                   jnp.array([index, 0, 0, 0])))\n",
    "        \n",
    "        #if inside or on simplex\n",
    "        else:\n",
    "            simplex_coords = vertices[simplex_index]\n",
    "            mat = precompute_barycentric_matrix(simplex_coords)\n",
    "            bar = jnp.dot(mat,vec)\n",
    "\n",
    "            weights_coords.append((jnp.array((bar)), vertices_cells[simplex_index]))\n",
    "    return jnp.array(weights_coords)\n",
    "\n",
    "        \n"
   ]
  },
  {
   "cell_type": "code",
   "execution_count": 12,
   "id": "bc674a4c-867d-4f56-a35c-55539d4a3f15",
   "metadata": {
    "tags": []
   },
   "outputs": [],
   "source": [
    "#generate idxs_tilda\n",
    "\n",
    "def idxs_tilda(ys, simplex_idxs = simplex_idxs_fixed):\n",
    "    weights_coords = car2bar_weight(ys, simplex_idxs)\n",
    "\n",
    "    w = jnp.array([w for w, _ in weights_coords])\n",
    "    ind = jnp.array([ind.astype(int) for _, ind in weights_coords])\n",
    "\n",
    "    point_idxs_tilda = jnp.zeros((subset_size, new_param[\"length\"]))\n",
    "    for i in range(new_param[\"length\"]):\n",
    "        point_idxs_tilda = point_idxs_tilda.at[ind[i], i].add(w[i])\n",
    "            \n",
    "    return point_idxs_tilda\n",
    "# def idxs_tilda(ys, simplex_idxs = simplex_idxs_fixed):\n",
    "#     # start_time = time.time()\n",
    "\n",
    "#     point_idxs_tilda = jnp.zeros((subset_size, new_param[\"length\"]))\n",
    "#     weights_coords = car2bar_weight(ys, simplex_idxs)\n",
    "    \n",
    "#     for i in range(new_param[\"length\"]):\n",
    "#         w, ind = weights_coords[i]\n",
    "#         ind = ind.astype(int)\n",
    "#         #for num in range(len(w)):\n",
    "#         point_idxs_tilda = point_idxs_tilda.at[ind[0], i].add(w[0])\n",
    "#         point_idxs_tilda = point_idxs_tilda.at[ind[1], i].add(w[1])\n",
    "#         point_idxs_tilda = point_idxs_tilda.at[ind[2], i].add(w[2])\n",
    "#         point_idxs_tilda = point_idxs_tilda.at[ind[3], i].add(w[3])\n",
    "#         # if time.time() - start_time >= 10:\n",
    "#         #             print(f\"i = {i}\")\n",
    "#         #             start_time = time.time()\n",
    "            \n",
    "#     return point_idxs_tilda"
   ]
  },
  {
   "cell_type": "code",
   "execution_count": 15,
   "id": "a4e2da03",
   "metadata": {
    "tags": []
   },
   "outputs": [],
   "source": [
    "#indices tilda of ground truth\n",
    "point_idxs_tilda_fixed = idxs_tilda(ys_fixed)"
   ]
  },
  {
   "cell_type": "code",
   "execution_count": 16,
   "id": "b42b51b0",
   "metadata": {},
   "outputs": [],
   "source": [
    "#Markov matrix constructed by making the (i, j) entry the sum of the products of the kth entry in the ith row and the (k+1)th entry in the jth row of point_idxs_tilda\n",
    "#Dot product of point_idxs_tilda minus the last row and point_idxs_tilda minus the first row should be the same computation\n",
    "#markov matrix of ground truth\n",
    "markov_matrix_fixed = np.dot(point_idxs_tilda_fixed[:, :-1], point_idxs_tilda_fixed[:, 1:].T)\n",
    "row_sums_fixed = np.sum(point_idxs_tilda_fixed, axis = 1)\n",
    "markov_matrix_fixed = markov_matrix_fixed / row_sums_fixed[:, None]"
   ]
  },
  {
   "cell_type": "code",
   "execution_count": 17,
   "id": "f976a53c-a0c8-44be-a5ca-5553b57ef671",
   "metadata": {},
   "outputs": [],
   "source": [
    "#construct markov matrix based on Delaunay\n",
    "def modified_markov(ys, simplex_idxs = simplex_idxs_fixed):\n",
    "    pt_idxs_tilda = idxs_tilda(ys, simplex_idxs)\n",
    "    markov = jnp.dot(pt_idxs_tilda[:, :-1], pt_idxs_tilda[:, 1:].T)\n",
    "    r_sums = jnp.sum(pt_idxs_tilda, axis = 1)\n",
    "    r_sums[:,None].at[r_sums[:,None] == 0].add(1.)\n",
    "    return markov / r_sums[:, None]"
   ]
  },
  {
   "cell_type": "code",
   "execution_count": 19,
   "id": "f6e43425-a958-4e91-a8a6-826e9044a08d",
   "metadata": {},
   "outputs": [],
   "source": [
    "# #objective function with fixed simplices\n",
    "# def param2dist_rho(param):\n",
    "#     new_param = change_param(param, \"rho\")\n",
    "#     ys = Euler_jnp(new_param)\n",
    "#     return jnp.linalg.norm(modified_markov(ys) - markov_matrix_fixed)"
   ]
  },
  {
   "cell_type": "code",
   "execution_count": 20,
   "id": "648acf9b-69a7-4d26-b057-fed021c4600d",
   "metadata": {
    "tags": []
   },
   "outputs": [],
   "source": [
    "#objective function for rho == 44\n",
    "def param2dist_rho44(param):\n",
    "    new_param = change_param(param, \"rho\")\n",
    "    ys = Euler_jnp(new_param)\n",
    "    return jnp.linalg.norm(modified_markov(ys, simplex_idxs_44) - markov_matrix_fixed)"
   ]
  },
  {
   "cell_type": "code",
   "execution_count": 21,
   "id": "c69d87c9-d9f9-4d3f-85b6-bcf27db25ca6",
   "metadata": {
    "tags": []
   },
   "outputs": [],
   "source": [
    "#objective function for rho == 41\n",
    "def param2dist_rho41(param):\n",
    "    new_param = change_param(param, \"rho\")\n",
    "    ys = Euler_jnp(new_param)\n",
    "    return jnp.linalg.norm(modified_markov(ys, simplex_idxs_41) - markov_matrix_fixed)"
   ]
  },
  {
   "cell_type": "code",
   "execution_count": 22,
   "id": "f270c7e1-ccc7-4c34-8412-6a138c2ef381",
   "metadata": {
    "tags": []
   },
   "outputs": [],
   "source": [
    "#objective function for rho == 37\n",
    "def param2dist_rho37(param):\n",
    "    new_param = change_param(param, \"rho\")\n",
    "    ys = Euler_jnp(new_param)\n",
    "    return jnp.linalg.norm(modified_markov(ys, simplex_idxs_37) - markov_matrix_fixed)"
   ]
  },
  {
   "cell_type": "code",
   "execution_count": 23,
   "id": "eb7bc631-9b20-4c06-8fab-49f228eed435",
   "metadata": {
    "tags": []
   },
   "outputs": [],
   "source": [
    "gradient_fixed = jax.grad(param2dist_rho)"
   ]
  },
  {
   "cell_type": "code",
   "execution_count": 24,
   "id": "4382be29-2bd1-4ea4-8e77-b7ad3626acc2",
   "metadata": {
    "tags": []
   },
   "outputs": [],
   "source": [
    "gradient_44 = jax.grad(param2dist_rho44)"
   ]
  },
  {
   "cell_type": "code",
   "execution_count": 25,
   "id": "ab9021bc-8bb1-4343-be8d-c4bb3197d6fd",
   "metadata": {
    "tags": []
   },
   "outputs": [],
   "source": [
    "gradient_41 = jax.grad(param2dist_rho41)"
   ]
  },
  {
   "cell_type": "code",
   "execution_count": 26,
   "id": "5de7473d-6717-4abb-b8bf-9b6b5ca02889",
   "metadata": {
    "tags": []
   },
   "outputs": [],
   "source": [
    "gradient_37 = jax.grad(param2dist_rho37)"
   ]
  },
  {
   "cell_type": "code",
   "execution_count": null,
   "id": "6e3e481a-2c7a-40c6-8fbc-7b825fbe4fb3",
   "metadata": {
    "tags": []
   },
   "outputs": [],
   "source": [
    "gradient_44(44.)"
   ]
  },
  {
   "cell_type": "code",
   "execution_count": 24,
   "id": "82ef164b-a48b-43da-810b-36c55a2630ef",
   "metadata": {},
   "outputs": [
    {
     "data": {
      "text/plain": [
       "Array(0.99724495, dtype=float32, weak_type=True)"
      ]
     },
     "execution_count": 24,
     "metadata": {},
     "output_type": "execute_result"
    }
   ],
   "source": [
    "gradient_41(41.)"
   ]
  },
  {
   "cell_type": "code",
   "execution_count": 39,
   "id": "9250fbbf-474c-433d-b01c-811cd11adacc",
   "metadata": {
    "tags": []
   },
   "outputs": [
    {
     "data": {
      "text/plain": [
       "Array(-0.01504948, dtype=float32, weak_type=True)"
      ]
     },
     "execution_count": 39,
     "metadata": {},
     "output_type": "execute_result"
    }
   ],
   "source": [
    "gradient_37(37.)"
   ]
  },
  {
   "cell_type": "code",
   "execution_count": 43,
   "id": "31359557",
   "metadata": {},
   "outputs": [],
   "source": [
    "def finite_diff_approx(fun, new_params, delta_theta = 1e-5):\n",
    "    theta_plus = new_params.copy()\n",
    "    theta_plus += delta_theta\n",
    "\n",
    "    theta_minus = new_params.copy()\n",
    "    theta_minus -= delta_theta\n",
    "\n",
    "    gradient = np.zeros(len(new_params))\n",
    "    for i in range(len(new_params)):\n",
    "        diff = fun(theta_plus[i]) - fun(theta_minus[i])\n",
    "        gradient[i] = diff / (2 * delta_theta)\n",
    "\n",
    "    return gradient"
   ]
  },
  {
   "cell_type": "code",
   "execution_count": 105,
   "id": "d231d4f5-40a4-497a-b9c2-a550f3c73877",
   "metadata": {
    "tags": []
   },
   "outputs": [
    {
     "data": {
      "text/plain": [
       "array([4.42429447])"
      ]
     },
     "execution_count": 105,
     "metadata": {},
     "output_type": "execute_result"
    }
   ],
   "source": [
    "#finite_diff_approx(param2dist_rho, np.array([40.001]), delta_theta = 5e-6)"
   ]
  },
  {
   "cell_type": "code",
   "execution_count": 56,
   "id": "33ba9cb0-5ec1-47bc-94af-5c557a8d2085",
   "metadata": {
    "tags": []
   },
   "outputs": [
    {
     "data": {
      "text/plain": [
       "array([0.60558319])"
      ]
     },
     "execution_count": 56,
     "metadata": {},
     "output_type": "execute_result"
    }
   ],
   "source": [
    "finite_diff_approx(param2dist_rho44, np.array([44.]), delta_theta = 5e-5)"
   ]
  },
  {
   "cell_type": "code",
   "execution_count": 54,
   "id": "cea33672-28e4-4289-a42e-7c834cb3b66c",
   "metadata": {
    "tags": []
   },
   "outputs": [
    {
     "data": {
      "text/plain": [
       "array([1.33514404])"
      ]
     },
     "execution_count": 54,
     "metadata": {},
     "output_type": "execute_result"
    }
   ],
   "source": [
    "finite_diff_approx(param2dist_rho41, np.array([41.]), delta_theta = 5e-5)"
   ]
  },
  {
   "cell_type": "code",
   "execution_count": 57,
   "id": "fe79e2a8-bf00-4d11-ba77-9a8092cc7178",
   "metadata": {
    "tags": []
   },
   "outputs": [
    {
     "data": {
      "text/plain": [
       "array([-0.00476837])"
      ]
     },
     "execution_count": 57,
     "metadata": {},
     "output_type": "execute_result"
    }
   ],
   "source": [
    "finite_diff_approx(param2dist_rho37, np.array([37.]), delta_theta = 5e-5)"
   ]
  }
 ],
 "metadata": {
  "kernelspec": {
   "display_name": "Python 3",
   "language": "python",
   "name": "python3"
  },
  "language_info": {
   "codemirror_mode": {
    "name": "ipython",
    "version": 3
   },
   "file_extension": ".py",
   "mimetype": "text/x-python",
   "name": "python",
   "nbconvert_exporter": "python",
   "pygments_lexer": "ipython3",
   "version": "3.8.8"
  }
 },
 "nbformat": 4,
 "nbformat_minor": 5
}
