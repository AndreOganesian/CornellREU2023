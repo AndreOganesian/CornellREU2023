{
 "cells": [
  {
   "cell_type": "code",
   "execution_count": 27,
   "id": "e88d1b93",
   "metadata": {},
   "outputs": [],
   "source": [
    "import numpy as np\n",
    "import jax\n",
    "import jax.numpy as jnp\n",
    "import matplotlib.pyplot as plt\n",
    "import scipy\n",
    "from scipy.spatial import cKDTree\n",
    "from scipy.spatial import Delaunay\n",
    "from scipy.optimize import basinhopping\n",
    "import copy\n",
    "from sklearn.cluster import MiniBatchKMeans\n",
    "from basic_functions import *\n",
    "import time"
   ]
  },
  {
   "cell_type": "code",
   "execution_count": 28,
   "id": "395ed02c-dbd8-43cf-a0b0-e52f8d6e8d6d",
   "metadata": {
    "tags": []
   },
   "outputs": [
    {
     "name": "stderr",
     "output_type": "stream",
     "text": [
      "C:\\Users\\andre\\AppData\\Local\\Packages\\PythonSoftwareFoundation.Python.3.11_qbz5n2kfra8p0\\LocalCache\\local-packages\\Python311\\site-packages\\sklearn\\cluster\\_kmeans.py:870: FutureWarning: The default value of `n_init` will change from 3 to 'auto' in 1.4. Set the value of `n_init` explicitly to suppress the warning\n",
      "  warnings.warn(\n"
     ]
    }
   ],
   "source": [
    "#REAL trajectory\n",
    "new_param = change_param(10000, \"length\")\n",
    "ys_fixed = Euler_jnp(new_param)\n",
    "\n",
    "subset_size = 500\n",
    "#CELL CENTER\n",
    "Xtrain_fixed = ys_fixed.transpose()\n",
    "sample = MiniBatchKMeans(n_clusters=subset_size).fit(Xtrain_fixed).cluster_centers_"
   ]
  },
  {
   "cell_type": "code",
   "execution_count": 29,
   "id": "b03215e6-067e-4263-8eaa-2565e0ed45e7",
   "metadata": {
    "tags": []
   },
   "outputs": [],
   "source": [
    "#point indices with respect to voronoi cells\n",
    "\n",
    "def idxs(ys):\n",
    "    point_idxs = []\n",
    "    Xtrain = ys.transpose()#coordinates of points\n",
    "    \n",
    "    for i in range(new_param[\"length\"]):\n",
    "        \n",
    "        distances = np.linalg.norm(sample - Xtrain[i], axis = 1)\n",
    "        #Euclidean distance from the ith point to each cell\n",
    "        \n",
    "        idxs = np.argmin(distances)\n",
    "        point_idxs.append(idxs)\n",
    "    \n",
    "    point_idxs = jnp.array(point_idxs)\n",
    "    \n",
    "    return point_idxs"
   ]
  },
  {
   "cell_type": "code",
   "execution_count": 39,
   "id": "f300991a-ce96-4ecf-8d5a-51133e179546",
   "metadata": {
    "tags": []
   },
   "outputs": [],
   "source": [
    "#cell center of barycentric simplexes\n",
    "vertices_cells = Delaunay(sample).simplices\n",
    "\n",
    "#vertex coordinates of barycentric simplexes\n",
    "vertices = sample[vertices_cells]"
   ]
  },
  {
   "cell_type": "code",
   "execution_count": 37,
   "id": "6943d527",
   "metadata": {},
   "outputs": [],
   "source": [
    "def precompute_barycentric_matrices(vertices):\n",
    "    matrices = []\n",
    "    for simplex in vertices:\n",
    "        #ri: vertices of a Barycentric simplex\n",
    "        r1, r2, r3, r4 = simplex\n",
    "\n",
    "        x1, y1, z1 = r1\n",
    "        x2, y2, z2 = r2\n",
    "        x3, y3, z3 = r3\n",
    "        x4, y4, z4 = r4\n",
    "    \n",
    "        T = np.array(([1., 1., 1., 1.],\n",
    "                      [x1, x2, x3, x4],\n",
    "                      [y1, y2, y3, y4],\n",
    "                      [z1, z2, z3, z4]))\n",
    "        T_inverse = np.linalg.inv(T)\n",
    "        matrices.append(T_inverse)\n",
    "    return matrices"
   ]
  },
  {
   "cell_type": "code",
   "execution_count": 43,
   "id": "0b028c65-7dc2-411e-b302-d52fe7ca2815",
   "metadata": {
    "tags": []
   },
   "outputs": [],
   "source": [
    "\n",
    "#I use numpy here for now so this runs fast. But we probably need to jax when taking gradient.\n",
    "#input:point coordinates\n",
    "#output:(weights, indices)\n",
    "def car2bar_weight(pt, barycentric_matrices):\n",
    "                                 \n",
    "    #Cartesian coordinates\n",
    "    x, y, z = pt\n",
    "    vec = np.array((1,x,y,z))#vector for barycentric matrix computing\n",
    "    for i, mat in enumerate(barycentric_matrices):\n",
    "        #ri: vertices of a Barycentric simplex\n",
    "        bar = mat.dot(vec)\n",
    "\n",
    "        if np.all(bar>= 0.):#to make sure the point is inside or on the simplex\n",
    "            return bar, vertices_cells[i]\n",
    "        \n",
    "    distance = np.linalg.norm(sample - pt, axis = 1)\n",
    "    index = np.argmin(distance)\n",
    "    return np.array([1.]), np.array([index])\n",
    "        \n"
   ]
  },
  {
   "cell_type": "code",
   "execution_count": 46,
   "id": "bc674a4c-867d-4f56-a35c-55539d4a3f15",
   "metadata": {
    "tags": []
   },
   "outputs": [],
   "source": [
    "#generate idxs_tilda\n",
    "def idxs_tilda(ys, barycentric_matrices):\n",
    "    start_time = time.time()\n",
    "\n",
    "    point_idxs_tilda = np.zeros((subset_size, new_param[\"length\"]))\n",
    "    \n",
    "    Xtrain = ys.transpose()\n",
    "    \n",
    "    for i in range(new_param[\"length\"]):\n",
    "        w, ind = car2bar_weight(Xtrain[i], barycentric_matrices)\n",
    "        for num in range(len(w)):\n",
    "            point_idxs_tilda[ind[num], i] += w[num]\n",
    "        if time.time() - start_time >= 10:\n",
    "                    print(f\"i = {i}\")\n",
    "                    start_time = time.time()\n",
    "            \n",
    "    return point_idxs_tilda"
   ]
  },
  {
   "cell_type": "code",
   "execution_count": 48,
   "id": "a4e2da03",
   "metadata": {},
   "outputs": [
    {
     "name": "stdout",
     "output_type": "stream",
     "text": [
      "i = 1567\n",
      "i = 3100\n",
      "i = 4774\n",
      "i = 6373\n",
      "i = 8008\n",
      "i = 9622\n"
     ]
    }
   ],
   "source": [
    "barycentric_matrices = precompute_barycentric_matrices(vertices)\n",
    "point_idxs_tilda = idxs_tilda(ys_fixed, barycentric_matrices)"
   ]
  },
  {
   "cell_type": "code",
   "execution_count": 49,
   "id": "b42b51b0",
   "metadata": {},
   "outputs": [
    {
     "name": "stderr",
     "output_type": "stream",
     "text": [
      "C:\\Users\\andre\\AppData\\Local\\Temp\\ipykernel_27232\\175742880.py:5: RuntimeWarning: invalid value encountered in divide\n",
      "  markov_matrix = markov_matrix / row_sums[:, None]\n"
     ]
    }
   ],
   "source": [
    "#Markov matrix constructed by making the (i, j) entry the sum of the products of the kth entry in the ith row and the (k+1)th entry in the jth row of point_idxs_tilda\n",
    "#Dot product of point_idxs_tilda minus the last row and point_idxs_tilda minus the first row should be the same computation\n",
    "markov_matrix = np.dot(point_idxs_tilda[:, :-1], point_idxs_tilda[:, 1:].T)\n",
    "row_sums = np.sum(point_idxs_tilda, axis = 1)\n",
    "markov_matrix = markov_matrix / row_sums[:, None]"
   ]
  }
 ],
 "metadata": {
  "kernelspec": {
   "display_name": "Python 3",
   "language": "python",
   "name": "python3"
  },
  "language_info": {
   "codemirror_mode": {
    "name": "ipython",
    "version": 3
   },
   "file_extension": ".py",
   "mimetype": "text/x-python",
   "name": "python",
   "nbconvert_exporter": "python",
   "pygments_lexer": "ipython3",
   "version": "3.11.4"
  }
 },
 "nbformat": 4,
 "nbformat_minor": 5
}
