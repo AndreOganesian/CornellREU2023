{
 "cells": [
  {
   "cell_type": "code",
   "execution_count": 1,
   "id": "e88d1b93",
   "metadata": {},
   "outputs": [],
   "source": [
    "import numpy as np\n",
    "import jax\n",
    "import jax.numpy as jnp\n",
    "import matplotlib.pyplot as plt\n",
    "import scipy\n",
    "from scipy.spatial import cKDTree\n",
    "from scipy.spatial import Delaunay\n",
    "from scipy.optimize import basinhopping\n",
    "import copy\n",
    "from sklearn.cluster import MiniBatchKMeans"
   ]
  },
  {
   "cell_type": "code",
   "execution_count": 2,
   "id": "72d3a039",
   "metadata": {},
   "outputs": [
    {
     "name": "stderr",
     "output_type": "stream",
     "text": [
      "WARNING:absl:No GPU/TPU found, falling back to CPU. (Set TF_CPP_MIN_LOG_LEVEL=0 and rerun for more info.)\n"
     ]
    }
   ],
   "source": [
    "#real parameters\n",
    "G_fixed = {\n",
    "    \"thresh\": 0.00002,\n",
    "    \"dt\": 0.005, #sampling frequency\n",
    "    \"sigma\": 10,\n",
    "    \"beta\": 1.5,\n",
    "    \"rho\": 40,\n",
    "    \"alpha\": 1e-4,\n",
    "    \"length\": #int(1e06 + 1)\n",
    "              int(1e05)\n",
    "              #int(1e04)\n",
    "    # Trajectory Length\n",
    "    \n",
    "}\n",
    "G = copy.deepcopy(G_fixed)\n",
    "#new params\n",
    "def change_param(new, param = \"rho\"):\n",
    "    G[param] = new\n",
    "    return G\n",
    "\n",
    "# Define the Lorenz-63 System\n",
    "@jax.jit\n",
    "def Lorenz(y, G):\n",
    "    dx1 = G[\"sigma\"] * (y[1] - y[0])\n",
    "    dx2 = y[0] * (G[\"rho\"] - y[2]) - y[1]\n",
    "    dx3 = y[0] * y[1] - G[\"beta\"] * y[2]\n",
    "    f = jnp.array((dx1, dx2, dx3)).flatten()#.reshape(3, 1)\n",
    "    return f\n",
    "\n",
    "# Set initial values and parameters\n",
    "start = jnp.array((1., 1., 1.))#.reshape(3, 1)\n",
    "nt = 1 #transition step size\n",
    "subset_size = 500 #cell number\n",
    "\n",
    "\n",
    "def Euler(G):\n",
    "    y = start\n",
    "    #ys = jnp.zeros((G[\"length\"],3))\n",
    "    ys = []\n",
    "    for timestep in range(G[\"length\"]): \n",
    "        \n",
    "        y = y + G[\"dt\"] * Lorenz(y, G)\n",
    "\n",
    "        ys.append(y)\n",
    "\n",
    "    \n",
    "    return jnp.array(ys).transpose()"
   ]
  },
  {
   "cell_type": "code",
   "execution_count": 3,
   "id": "3b65e15a",
   "metadata": {},
   "outputs": [],
   "source": [
    "#REAL trajectory\n",
    "ys_fixed = Euler(G_fixed)\n",
    "\n"
   ]
  },
  {
   "cell_type": "code",
   "execution_count": 4,
   "id": "395ed02c-dbd8-43cf-a0b0-e52f8d6e8d6d",
   "metadata": {
    "tags": []
   },
   "outputs": [],
   "source": [
    "#CELL CENTER\n",
    "Xtrain_fixed = ys_fixed.transpose()\n",
    "sample = MiniBatchKMeans(n_clusters=subset_size).fit(Xtrain_fixed).cluster_centers_"
   ]
  },
  {
   "cell_type": "code",
   "execution_count": 5,
   "id": "b03215e6-067e-4263-8eaa-2565e0ed45e7",
   "metadata": {
    "tags": []
   },
   "outputs": [],
   "source": [
    "#point indices with respect to voronoi cells\n",
    "\n",
    "def idxs(ys):\n",
    "    point_idxs = []\n",
    "    Xtrain = ys.transpose()#coordinates of points\n",
    "    \n",
    "    for i in range(G[\"length\"]):\n",
    "        \n",
    "        distances = np.linalg.norm(sample - Xtrain[i], axis = 1)\n",
    "        #Euclidean distance from the ith point to each cell\n",
    "        \n",
    "        idxs = np.argmin(distances)\n",
    "        point_idxs.append(idxs)\n",
    "    \n",
    "    point_idxs = jnp.array(point_idxs)\n",
    "    \n",
    "    return point_idxs"
   ]
  },
  {
   "cell_type": "code",
   "execution_count": 6,
   "id": "f300991a-ce96-4ecf-8d5a-51133e179546",
   "metadata": {
    "tags": []
   },
   "outputs": [],
   "source": [
    "#cell center of barycentric simplexes\n",
    "vertices_cells = Delaunay(sample).simplices"
   ]
  },
  {
   "cell_type": "code",
   "execution_count": 7,
   "id": "b9475e7b-1017-41c3-a2c6-b8ea7e9ae41f",
   "metadata": {
    "tags": []
   },
   "outputs": [],
   "source": [
    "#vertex coordinates of barycentric simplexes\n",
    "vertices = sample[vertices_cells]"
   ]
  },
  {
   "cell_type": "code",
   "execution_count": 8,
   "id": "0b028c65-7dc2-411e-b302-d52fe7ca2815",
   "metadata": {
    "tags": []
   },
   "outputs": [],
   "source": [
    "\n",
    "#I use numpy here for now so this runs fast. But we probably need to jax when taking gradient.\n",
    "#input:point coordinates\n",
    "#output:(weights, indices)\n",
    "def car2bar_weight(pt):\n",
    "                                 \n",
    "    #Cartesian coordinates\n",
    "    x = pt[0]\n",
    "    y = pt[1]\n",
    "    z = pt[2]\n",
    "    vec = np.array((1,x,y,z))#vector for barycentric matrix computing\n",
    "    real_bar = 0\n",
    "    for i in range(len(vertices)):\n",
    "        v = vertices[i]\n",
    "        \n",
    "        #ri: vertices of a Barycentric simplex\n",
    "        r1 = v[0]\n",
    "        r2 = v[1]\n",
    "        r3 = v[2]\n",
    "        r4 = v[3]\n",
    "\n",
    "        x1 = r1[0]\n",
    "        y1 = r1[1]\n",
    "        z1 = r1[2]\n",
    "        x2 = r2[0]\n",
    "        y2 = r2[1]\n",
    "        z2 = r2[2]\n",
    "        x3 = r3[0]\n",
    "        y3 = r3[1]\n",
    "        z3 = r3[2]\n",
    "        x4 = r4[0]\n",
    "        y4 = r4[1]\n",
    "        z4 = r4[2]\n",
    "    \n",
    "        T = np.array(([1., 1., 1., 1.],\n",
    "                      [x1, x2, x3, x4],\n",
    "                      [y1, y2, y3, y4],\n",
    "                      [z1, z2, z3, z4]))\n",
    "        T_inverse = np.linalg.inv(T)\n",
    "        bar = T_inverse.dot(vec)\n",
    "\n",
    "        if np.min(bar)>= 0.:#to make sure the point is inside or on the simplex\n",
    "            real_bar = bar\n",
    "\n",
    "            return real_bar, vertices_cells[i]\n",
    "        \n",
    "    distance = np.linalg.norm(sample - pt, axis = 1)\n",
    "    index = np.argmin(distance)\n",
    "    return np.array([1.]), np.array([index])\n",
    "        \n"
   ]
  },
  {
   "cell_type": "code",
   "execution_count": 9,
   "id": "bc674a4c-867d-4f56-a35c-55539d4a3f15",
   "metadata": {
    "tags": []
   },
   "outputs": [],
   "source": [
    "#generate idxs_tilda\n",
    "def idxs_tilda(ys):\n",
    "    point_idxs_tilda = np.zeros((subset_size, G[\"length\"]))\n",
    "    \n",
    "    Xtrain = ys.transpose()\n",
    "    \n",
    "    for i in range(G[\"length\"]):\n",
    "        w = car2bar_weight(Xtrain[i])[0]\n",
    "        ind = car2bar_weight(Xtrain[i])[1]\n",
    "        for num in range(len(w)):\n",
    "            point_idxs_tilda[ind[num], i] += w[num]\n",
    "            \n",
    "    return point_idxs_tilda"
   ]
  }
 ],
 "metadata": {
  "kernelspec": {
   "display_name": "Python 3",
   "language": "python",
   "name": "python3"
  },
  "language_info": {
   "codemirror_mode": {
    "name": "ipython",
    "version": 3
   },
   "file_extension": ".py",
   "mimetype": "text/x-python",
   "name": "python",
   "nbconvert_exporter": "python",
   "pygments_lexer": "ipython3",
   "version": "3.8.8"
  }
 },
 "nbformat": 4,
 "nbformat_minor": 5
}
