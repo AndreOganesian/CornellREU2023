{
 "cells": [
  {
   "cell_type": "code",
   "execution_count": 7,
   "metadata": {},
   "outputs": [],
   "source": [
    "import numpy as np\n",
    "import matplotlib.pyplot as plt\n",
    "import scipy\n",
    "from sklearn.cluster import MiniBatchKMeans\n",
    "from basic_functions import *"
   ]
  },
  {
   "cell_type": "code",
   "execution_count": 8,
   "metadata": {},
   "outputs": [
    {
     "name": "stderr",
     "output_type": "stream",
     "text": [
      "C:\\Users\\andre\\AppData\\Local\\Packages\\PythonSoftwareFoundation.Python.3.11_qbz5n2kfra8p0\\LocalCache\\local-packages\\Python311\\site-packages\\sklearn\\cluster\\_kmeans.py:870: FutureWarning: The default value of `n_init` will change from 3 to 'auto' in 1.4. Set the value of `n_init` explicitly to suppress the warning\n",
      "  warnings.warn(\n"
     ]
    }
   ],
   "source": [
    "subset_size = 500 #cell number\n",
    "\n",
    "#REAL trajectory\n",
    "ys_fixed = Euler_np(params_fixed)\n",
    "Xtrain_fixed = ys_fixed.transpose()\n",
    "sample = MiniBatchKMeans(n_clusters=subset_size).fit(Xtrain_fixed).cluster_centers_"
   ]
  },
  {
   "cell_type": "code",
   "execution_count": 9,
   "metadata": {},
   "outputs": [
    {
     "data": {
      "text/plain": [
       "<matplotlib.lines.Line2D at 0x1c35f147950>"
      ]
     },
     "execution_count": 9,
     "metadata": {},
     "output_type": "execute_result"
    },
    {
     "data": {
      "image/png": "[encoded data removed]",
      "text/plain": [
       "<Figure size 500x500 with 1 Axes>"
      ]
     },
     "metadata": {},
     "output_type": "display_data"
    }
   ],
   "source": [
    "#REAL Markov matrix\n",
    "M_mat0 = Markov_np(ys_fixed, sample)\n",
    "\n",
    "#sanity check of Markov matrix\n",
    "fig = plt.figure(figsize=(5, 5))\n",
    "plt.spy(M_mat0, precision=0, marker=None, markersize=1, aspect='equal', origin='upper')"
   ]
  },
  {
   "cell_type": "code",
   "execution_count": 10,
   "metadata": {},
   "outputs": [],
   "source": [
    "def matrix_original_cells(val, param):\n",
    "    ys = Euler_np(change_param(val, param))\n",
    "    return Markov_np(ys, sample)\n",
    "     \n",
    "def mat_frobenius_norm(test_mat):\n",
    "\n",
    "    return np.linalg.norm(M_mat0 - test_mat)"
   ]
  },
  {
   "cell_type": "code",
   "execution_count": 11,
   "metadata": {},
   "outputs": [],
   "source": [
    "def param2distance_rho(val):\n",
    "    return mat_frobenius_norm(matrix_original_cells(val, \"rho\"))\n",
    "\n",
    "def param2distance_sigma(val):\n",
    "    return mat_frobenius_norm(matrix_original_cells(val, \"sigma\"))\n",
    "\n",
    "def param2distance_beta(val):\n",
    "    return mat_frobenius_norm(matrix_original_cells(val, \"beta\"))\n",
    "\n",
    "epsilon = 1e-5\n",
    "def lin_interp_rho(val):\n",
    "    x_discrete = np.arange(val - epsilon, val + epsilon, epsilon)\n",
    "    print(len(x_discrete))\n",
    "    y_discrete = np.array((param2distance_rho(x_discrete[0]),\n",
    "                          param2distance_rho(x_discrete[1]),\n",
    "                          param2distance_rho(x_discrete[2])))\n",
    "    print(len(y_discrete))\n",
    "    return np.interp(val, x_discrete, y_discrete)"
   ]
  },
  {
   "cell_type": "code",
   "execution_count": 17,
   "metadata": {},
   "outputs": [
    {
     "name": "stdout",
     "output_type": "stream",
     "text": [
      "Iteration 1: x = [39.6]\n",
      "Iteration 2: x = [39.6]\n",
      "Iteration 3: x = [40.7]\n",
      "Iteration 4: x = [40.15]\n",
      "Iteration 5: x = [40.15]\n",
      "Iteration 6: x = [39.875]\n",
      "Iteration 7: x = [40.0125]\n",
      "Iteration 8: x = [40.0125]\n",
      "Iteration 9: x = [40.0125]\n",
      "Iteration 10: x = [40.0125]\n",
      "Iteration 11: x = [40.0125]\n",
      "Iteration 12: x = [40.01679687]\n",
      "Iteration 13: x = [40.01679687]\n",
      "Iteration 14: x = [40.01679687]\n",
      "Iteration 15: x = [40.01679687]\n",
      "Iteration 16: x = [40.01679687]\n",
      "Iteration 17: x = [40.01679687]\n",
      "Iteration 18: x = [40.01679687]\n",
      "Iteration 19: x = [40.01679687]\n",
      "Iteration 20: x = [40.01679687]\n",
      "Iteration 21: x = [40.01679687]\n",
      "Iteration 22: x = [40.01679687]\n",
      "Iteration 23: x = [40.01679687]\n",
      "Iteration 24: x = [40.01679687]\n",
      "Iteration 25: x = [40.01679687]\n",
      "Iteration 26: x = [40.01679687]\n",
      "Iteration 27: x = [40.01679687]\n",
      "Iteration 28: x = [40.01679687]\n",
      "Iteration 29: x = [40.01679687]\n",
      "Iteration 30: x = [40.01679687]\n",
      "Optimization terminated.\n",
      "Iteration 1: x = [6.9]\n",
      "Iteration 2: x = [8.1]\n",
      "Iteration 3: x = [9.3]\n",
      "Iteration 4: x = [9.9]\n",
      "Iteration 5: x = [9.6]\n",
      "Iteration 6: x = [9.6]\n",
      "Iteration 7: x = [9.6]\n",
      "Iteration 8: x = [9.6]\n",
      "Iteration 9: x = [9.61875]\n",
      "Iteration 10: x = [9.61875]\n",
      "Iteration 11: x = [9.61875]\n",
      "Iteration 12: x = [9.61875]\n",
      "Iteration 13: x = [9.61875]\n",
      "Iteration 14: x = [9.61875]\n",
      "Iteration 15: x = [9.61875]\n",
      "Iteration 16: x = [9.61875]\n",
      "Iteration 17: x = [9.61875]\n",
      "Iteration 18: x = [9.61875]\n",
      "Iteration 19: x = [9.61875]\n",
      "Iteration 20: x = [9.61875]\n",
      "Iteration 21: x = [9.61875]\n",
      "Iteration 22: x = [9.61875]\n",
      "Iteration 23: x = [9.61875]\n",
      "Iteration 24: x = [9.61875]\n",
      "Iteration 25: x = [9.61875]\n",
      "Iteration 26: x = [9.61875]\n",
      "Iteration 27: x = [9.61875]\n",
      "Iteration 28: x = [9.61875]\n",
      "Iteration 29: x = [9.61875]\n",
      "Iteration 30: x = [9.61875]\n",
      "Optimization terminated.\n",
      "Iteration 1: x = [2.7]\n",
      "Iteration 2: x = [2.1]\n",
      "Iteration 3: x = [1.5]\n",
      "Iteration 4: x = [1.8]\n",
      "Iteration 5: x = [1.65]\n",
      "Iteration 6: x = [1.65]\n",
      "Iteration 7: x = [1.6125]\n",
      "Iteration 8: x = [1.6125]\n",
      "Iteration 9: x = [1.6125]\n",
      "Iteration 10: x = [1.6125]\n",
      "Iteration 11: x = [1.6125]\n",
      "Iteration 12: x = [1.6125]\n",
      "Iteration 13: x = [1.6125]\n",
      "Iteration 14: x = [1.61220703]\n",
      "Iteration 15: x = [1.61220703]\n",
      "Iteration 16: x = [1.61206055]\n",
      "Iteration 17: x = [1.61206055]\n",
      "Iteration 18: x = [1.61206055]\n",
      "Iteration 19: x = [1.61206055]\n",
      "Iteration 20: x = [1.61205139]\n",
      "Iteration 21: x = [1.61205139]\n",
      "Iteration 22: x = [1.61205139]\n",
      "Iteration 23: x = [1.61205139]\n",
      "Iteration 24: x = [1.61205139]\n",
      "Iteration 25: x = [1.61205111]\n",
      "Iteration 26: x = [1.61205111]\n",
      "Iteration 27: x = [1.61205111]\n",
      "Iteration 28: x = [1.61205111]\n",
      "Iteration 29: x = [1.61205111]\n",
      "Iteration 30: x = [1.61205111]\n",
      "Optimization terminated.\n"
     ]
    }
   ],
   "source": [
    "#Iteration process of nelder-mead\n",
    "# Custom exception for terminating optimization\n",
    "class TerminationException(Exception):\n",
    "    pass\n",
    "\n",
    "# Define the callback function\n",
    "def callback(xk):\n",
    "    callback.iteration += 1\n",
    "    print(f\"Iteration {callback.iteration}: x = {xk}\")\n",
    "    callback.result.append(xk)\n",
    "    if callback.iteration >= 30:\n",
    "        raise TerminationException(\"Terminated.\")\n",
    "##rho\n",
    "callback.iteration = 0\n",
    "callback.result = []\n",
    "\n",
    "# Initial guess\n",
    "x0 = np.array([44.0])\n",
    "\n",
    "try:\n",
    "    # Perform the optimization\n",
    "    result = scipy.optimize.minimize(param2distance_rho, x0, method=\"Nelder-Mead\", callback=callback).x\n",
    "except TerminationException:\n",
    "    print(\"Optimization terminated.\")\n",
    "\n",
    "# Convert the result list to a NumPy array\n",
    "predict_rho = np.array(callback.result)\n",
    "\n",
    "##sigma\n",
    "callback.iteration = 0\n",
    "callback.result = []\n",
    "\n",
    "# Initial guess\n",
    "x0 = np.array([6.0])\n",
    "\n",
    "try:\n",
    "    # Perform the optimization\n",
    "    result = scipy.optimize.minimize(param2distance_sigma, x0, method=\"Nelder-Mead\", callback=callback).x\n",
    "except TerminationException:\n",
    "    print(\"Optimization terminated.\")\n",
    "\n",
    "# Convert the result list to a NumPy array\n",
    "predict_sigma = np.array(callback.result)\n",
    "\n",
    "##beta\n",
    "callback.iteration = 0\n",
    "callback.result = []\n",
    "\n",
    "# Initial guess\n",
    "x0 = np.array([3.0])\n",
    "\n",
    "try:\n",
    "    # Perform the optimization\n",
    "    result = scipy.optimize.minimize(param2distance_beta, x0, method=\"Nelder-Mead\", callback=callback).x\n",
    "except TerminationException:\n",
    "    print(\"Optimization terminated.\")\n",
    "\n",
    "# Convert the result list to a NumPy array\n",
    "predict_beta = np.array(callback.result)\n",
    "\n"
   ]
  },
  {
   "cell_type": "code",
   "execution_count": 20,
   "metadata": {},
   "outputs": [
    {
     "ename": "ValueError",
     "evalue": "x and y must have same first dimension, but have shapes (27,) and (30, 1)",
     "output_type": "error",
     "traceback": [
      "\u001b[1;31m---------------------------------------------------------------------------\u001b[0m",
      "\u001b[1;31mValueError\u001b[0m                                Traceback (most recent call last)",
      "Cell \u001b[1;32mIn[20], line 2\u001b[0m\n\u001b[0;32m      1\u001b[0m \u001b[39m#nelder-mead figure\u001b[39;00m\n\u001b[1;32m----> 2\u001b[0m plt\u001b[39m.\u001b[39;49mplot(np\u001b[39m.\u001b[39;49marange(\u001b[39m4\u001b[39;49m, \u001b[39mlen\u001b[39;49m(predict_rho)\u001b[39m+\u001b[39;49m\u001b[39m1\u001b[39;49m, \u001b[39m1\u001b[39;49m), \u001b[39mabs\u001b[39;49m(predict_rho \u001b[39m-\u001b[39;49m params_fixed[\u001b[39m\"\u001b[39;49m\u001b[39mrho\u001b[39;49m\u001b[39m\"\u001b[39;49m])\u001b[39m*\u001b[39;49m\u001b[39m*\u001b[39;49m\u001b[39m2\u001b[39;49m)\n\u001b[0;32m      3\u001b[0m plt\u001b[39m.\u001b[39mplot(np\u001b[39m.\u001b[39marange(\u001b[39m1\u001b[39m, \u001b[39mlen\u001b[39m(predict_sigma)\u001b[39m+\u001b[39m\u001b[39m1\u001b[39m, \u001b[39m1\u001b[39m), \u001b[39mabs\u001b[39m(predict_sigma \u001b[39m-\u001b[39m params_fixed[\u001b[39m\"\u001b[39m\u001b[39msigma\u001b[39m\u001b[39m\"\u001b[39m])\u001b[39m*\u001b[39m\u001b[39m*\u001b[39m\u001b[39m2\u001b[39m)\n\u001b[0;32m      4\u001b[0m plt\u001b[39m.\u001b[39mplot(np\u001b[39m.\u001b[39marange(\u001b[39m1\u001b[39m, \u001b[39mlen\u001b[39m(predict_beta)\u001b[39m+\u001b[39m\u001b[39m1\u001b[39m, \u001b[39m1\u001b[39m), \u001b[39mabs\u001b[39m(predict_beta \u001b[39m-\u001b[39m params_fixed[\u001b[39m\"\u001b[39m\u001b[39mbeta\u001b[39m\u001b[39m\"\u001b[39m])\u001b[39m*\u001b[39m\u001b[39m*\u001b[39m\u001b[39m2\u001b[39m)\n",
      "File \u001b[1;32m~\\AppData\\Local\\Packages\\PythonSoftwareFoundation.Python.3.11_qbz5n2kfra8p0\\LocalCache\\local-packages\\Python311\\site-packages\\matplotlib\\pyplot.py:2812\u001b[0m, in \u001b[0;36mplot\u001b[1;34m(scalex, scaley, data, *args, **kwargs)\u001b[0m\n\u001b[0;32m   2810\u001b[0m \u001b[39m@_copy_docstring_and_deprecators\u001b[39m(Axes\u001b[39m.\u001b[39mplot)\n\u001b[0;32m   2811\u001b[0m \u001b[39mdef\u001b[39;00m \u001b[39mplot\u001b[39m(\u001b[39m*\u001b[39margs, scalex\u001b[39m=\u001b[39m\u001b[39mTrue\u001b[39;00m, scaley\u001b[39m=\u001b[39m\u001b[39mTrue\u001b[39;00m, data\u001b[39m=\u001b[39m\u001b[39mNone\u001b[39;00m, \u001b[39m*\u001b[39m\u001b[39m*\u001b[39mkwargs):\n\u001b[1;32m-> 2812\u001b[0m     \u001b[39mreturn\u001b[39;00m gca()\u001b[39m.\u001b[39;49mplot(\n\u001b[0;32m   2813\u001b[0m         \u001b[39m*\u001b[39;49margs, scalex\u001b[39m=\u001b[39;49mscalex, scaley\u001b[39m=\u001b[39;49mscaley,\n\u001b[0;32m   2814\u001b[0m         \u001b[39m*\u001b[39;49m\u001b[39m*\u001b[39;49m({\u001b[39m\"\u001b[39;49m\u001b[39mdata\u001b[39;49m\u001b[39m\"\u001b[39;49m: data} \u001b[39mif\u001b[39;49;00m data \u001b[39mis\u001b[39;49;00m \u001b[39mnot\u001b[39;49;00m \u001b[39mNone\u001b[39;49;00m \u001b[39melse\u001b[39;49;00m {}), \u001b[39m*\u001b[39;49m\u001b[39m*\u001b[39;49mkwargs)\n",
      "File \u001b[1;32m~\\AppData\\Local\\Packages\\PythonSoftwareFoundation.Python.3.11_qbz5n2kfra8p0\\LocalCache\\local-packages\\Python311\\site-packages\\matplotlib\\axes\\_axes.py:1688\u001b[0m, in \u001b[0;36mAxes.plot\u001b[1;34m(self, scalex, scaley, data, *args, **kwargs)\u001b[0m\n\u001b[0;32m   1445\u001b[0m \u001b[39m\u001b[39m\u001b[39m\"\"\"\u001b[39;00m\n\u001b[0;32m   1446\u001b[0m \u001b[39mPlot y versus x as lines and/or markers.\u001b[39;00m\n\u001b[0;32m   1447\u001b[0m \n\u001b[1;32m   (...)\u001b[0m\n\u001b[0;32m   1685\u001b[0m \u001b[39m(``'green'``) or hex strings (``'#008000'``).\u001b[39;00m\n\u001b[0;32m   1686\u001b[0m \u001b[39m\"\"\"\u001b[39;00m\n\u001b[0;32m   1687\u001b[0m kwargs \u001b[39m=\u001b[39m cbook\u001b[39m.\u001b[39mnormalize_kwargs(kwargs, mlines\u001b[39m.\u001b[39mLine2D)\n\u001b[1;32m-> 1688\u001b[0m lines \u001b[39m=\u001b[39m [\u001b[39m*\u001b[39m\u001b[39mself\u001b[39m\u001b[39m.\u001b[39m_get_lines(\u001b[39m*\u001b[39margs, data\u001b[39m=\u001b[39mdata, \u001b[39m*\u001b[39m\u001b[39m*\u001b[39mkwargs)]\n\u001b[0;32m   1689\u001b[0m \u001b[39mfor\u001b[39;00m line \u001b[39min\u001b[39;00m lines:\n\u001b[0;32m   1690\u001b[0m     \u001b[39mself\u001b[39m\u001b[39m.\u001b[39madd_line(line)\n",
      "File \u001b[1;32m~\\AppData\\Local\\Packages\\PythonSoftwareFoundation.Python.3.11_qbz5n2kfra8p0\\LocalCache\\local-packages\\Python311\\site-packages\\matplotlib\\axes\\_base.py:311\u001b[0m, in \u001b[0;36m_process_plot_var_args.__call__\u001b[1;34m(self, data, *args, **kwargs)\u001b[0m\n\u001b[0;32m    309\u001b[0m     this \u001b[39m+\u001b[39m\u001b[39m=\u001b[39m args[\u001b[39m0\u001b[39m],\n\u001b[0;32m    310\u001b[0m     args \u001b[39m=\u001b[39m args[\u001b[39m1\u001b[39m:]\n\u001b[1;32m--> 311\u001b[0m \u001b[39myield from\u001b[39;00m \u001b[39mself\u001b[39;49m\u001b[39m.\u001b[39;49m_plot_args(\n\u001b[0;32m    312\u001b[0m     this, kwargs, ambiguous_fmt_datakey\u001b[39m=\u001b[39;49mambiguous_fmt_datakey)\n",
      "File \u001b[1;32m~\\AppData\\Local\\Packages\\PythonSoftwareFoundation.Python.3.11_qbz5n2kfra8p0\\LocalCache\\local-packages\\Python311\\site-packages\\matplotlib\\axes\\_base.py:504\u001b[0m, in \u001b[0;36m_process_plot_var_args._plot_args\u001b[1;34m(self, tup, kwargs, return_kwargs, ambiguous_fmt_datakey)\u001b[0m\n\u001b[0;32m    501\u001b[0m     \u001b[39mself\u001b[39m\u001b[39m.\u001b[39maxes\u001b[39m.\u001b[39myaxis\u001b[39m.\u001b[39mupdate_units(y)\n\u001b[0;32m    503\u001b[0m \u001b[39mif\u001b[39;00m x\u001b[39m.\u001b[39mshape[\u001b[39m0\u001b[39m] \u001b[39m!=\u001b[39m y\u001b[39m.\u001b[39mshape[\u001b[39m0\u001b[39m]:\n\u001b[1;32m--> 504\u001b[0m     \u001b[39mraise\u001b[39;00m \u001b[39mValueError\u001b[39;00m(\u001b[39mf\u001b[39m\u001b[39m\"\u001b[39m\u001b[39mx and y must have same first dimension, but \u001b[39m\u001b[39m\"\u001b[39m\n\u001b[0;32m    505\u001b[0m                      \u001b[39mf\u001b[39m\u001b[39m\"\u001b[39m\u001b[39mhave shapes \u001b[39m\u001b[39m{\u001b[39;00mx\u001b[39m.\u001b[39mshape\u001b[39m}\u001b[39;00m\u001b[39m and \u001b[39m\u001b[39m{\u001b[39;00my\u001b[39m.\u001b[39mshape\u001b[39m}\u001b[39;00m\u001b[39m\"\u001b[39m)\n\u001b[0;32m    506\u001b[0m \u001b[39mif\u001b[39;00m x\u001b[39m.\u001b[39mndim \u001b[39m>\u001b[39m \u001b[39m2\u001b[39m \u001b[39mor\u001b[39;00m y\u001b[39m.\u001b[39mndim \u001b[39m>\u001b[39m \u001b[39m2\u001b[39m:\n\u001b[0;32m    507\u001b[0m     \u001b[39mraise\u001b[39;00m \u001b[39mValueError\u001b[39;00m(\u001b[39mf\u001b[39m\u001b[39m\"\u001b[39m\u001b[39mx and y can be no greater than 2D, but have \u001b[39m\u001b[39m\"\u001b[39m\n\u001b[0;32m    508\u001b[0m                      \u001b[39mf\u001b[39m\u001b[39m\"\u001b[39m\u001b[39mshapes \u001b[39m\u001b[39m{\u001b[39;00mx\u001b[39m.\u001b[39mshape\u001b[39m}\u001b[39;00m\u001b[39m and \u001b[39m\u001b[39m{\u001b[39;00my\u001b[39m.\u001b[39mshape\u001b[39m}\u001b[39;00m\u001b[39m\"\u001b[39m)\n",
      "\u001b[1;31mValueError\u001b[0m: x and y must have same first dimension, but have shapes (27,) and (30, 1)"
     ]
    },
    {
     "data": {
      "image/png": "[encoded data removed]",
      "text/plain": [
       "<Figure size 640x480 with 1 Axes>"
      ]
     },
     "metadata": {},
     "output_type": "display_data"
    }
   ],
   "source": [
    "#nelder-mead figure\n",
    "plt.plot(np.arange(4, len(predict_rho)+1, 1), abs(predict_rho - params_fixed[\"rho\"])**2)\n",
    "plt.plot(np.arange(1, len(predict_sigma)+1, 1), abs(predict_sigma - params_fixed[\"sigma\"])**2)\n",
    "plt.plot(np.arange(1, len(predict_beta)+1, 1), abs(predict_beta - params_fixed[\"beta\"])**2)\n",
    "#plt.scatter(iteration, predict_sigma - 10.)\n",
    "#plt.scatter(iteration, predict_beta - 1.5)\n",
    "plt.xlabel(\"iteration\")\n",
    "plt.ylabel(\"Error\")"
   ]
  }
 ],
 "metadata": {
  "kernelspec": {
   "display_name": "Python 3",
   "language": "python",
   "name": "python3"
  },
  "language_info": {
   "codemirror_mode": {
    "name": "ipython",
    "version": 3
   },
   "file_extension": ".py",
   "mimetype": "text/x-python",
   "name": "python",
   "nbconvert_exporter": "python",
   "pygments_lexer": "ipython3",
   "version": "3.11.4"
  },
  "orig_nbformat": 4
 },
 "nbformat": 4,
 "nbformat_minor": 2
}
