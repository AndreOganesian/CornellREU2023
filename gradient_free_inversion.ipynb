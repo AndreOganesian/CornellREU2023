{
 "cells": [
  {
   "cell_type": "code",
   "execution_count": 22,
   "metadata": {},
   "outputs": [],
   "source": [
    "import numpy as np\n",
    "import matplotlib.pyplot as plt\n",
    "import scipy\n",
    "from sklearn.cluster import MiniBatchKMeans\n",
    "from basic_functions import *"
   ]
  },
  {
   "cell_type": "code",
   "execution_count": 23,
   "metadata": {},
   "outputs": [
    {
     "name": "stderr",
     "output_type": "stream",
     "text": [
      "C:\\Users\\andre\\AppData\\Local\\Packages\\PythonSoftwareFoundation.Python.3.11_qbz5n2kfra8p0\\LocalCache\\local-packages\\Python311\\site-packages\\sklearn\\cluster\\_kmeans.py:870: FutureWarning: The default value of `n_init` will change from 3 to 'auto' in 1.4. Set the value of `n_init` explicitly to suppress the warning\n",
      "  warnings.warn(\n"
     ]
    }
   ],
   "source": [
    "subset_size = 500 #cell number\n",
    "\n",
    "#REAL trajectory\n",
    "ys_fixed = Euler_np(params_fixed)\n",
    "Xtrain_fixed = ys_fixed.transpose()\n",
    "sample = MiniBatchKMeans(n_clusters=subset_size).fit(Xtrain_fixed).cluster_centers_"
   ]
  },
  {
   "cell_type": "code",
   "execution_count": 24,
   "metadata": {},
   "outputs": [
    {
     "data": {
      "text/plain": [
       "<matplotlib.lines.Line2D at 0x1c081dd4790>"
      ]
     },
     "execution_count": 24,
     "metadata": {},
     "output_type": "execute_result"
    },
    {
     "data": {
      "image/png": "[encoded data removed]",
      "text/plain": [
       "<Figure size 500x500 with 1 Axes>"
      ]
     },
     "metadata": {},
     "output_type": "display_data"
    }
   ],
   "source": [
    "#REAL Markov matrix\n",
    "M_mat0 = Markov_np(ys_fixed, sample)\n",
    "\n",
    "#sanity check of Markov matrix\n",
    "fig = plt.figure(figsize=(5, 5))\n",
    "plt.spy(M_mat0, precision=0, marker=None, markersize=1, aspect='equal', origin='upper')"
   ]
  },
  {
   "cell_type": "code",
   "execution_count": 25,
   "metadata": {},
   "outputs": [],
   "source": [
    "def matrix_original_cells(val, param):\n",
    "    ys = Euler_np(change_param(val, param))\n",
    "    return Markov_np(ys, sample)\n",
    "     \n",
    "def mat_frobenius_norm(test_mat):\n",
    "\n",
    "    return np.linalg.norm(M_mat0 - test_mat)"
   ]
  },
  {
   "cell_type": "code",
   "execution_count": 26,
   "metadata": {},
   "outputs": [],
   "source": [
    "def param2distance_rho(val):\n",
    "    return mat_frobenius_norm(matrix_original_cells(val, \"rho\"))\n",
    "\n",
    "def param2distance_sigma(val):\n",
    "    return mat_frobenius_norm(matrix_original_cells(val, \"sigma\"))\n",
    "\n",
    "def param2distance_beta(val):\n",
    "    return mat_frobenius_norm(matrix_original_cells(val, \"beta\"))\n",
    "\n",
    "epsilon = 1e-5\n",
    "def lin_interp_rho(val):\n",
    "    x_discrete = np.arange(val - epsilon, val + epsilon, epsilon)\n",
    "    print(len(x_discrete))\n",
    "    y_discrete = np.array((param2distance_rho(x_discrete[0]),\n",
    "                          param2distance_rho(x_discrete[1]),\n",
    "                          param2distance_rho(x_discrete[2])))\n",
    "    print(len(y_discrete))\n",
    "    return np.interp(val, x_discrete, y_discrete)"
   ]
  },
  {
   "cell_type": "code",
   "execution_count": 15,
   "metadata": {},
   "outputs": [
    {
     "name": "stdout",
     "output_type": "stream",
     "text": [
      "Iteration 1: x = [27.5]\n",
      "Iteration 2: x = [27.5]\n",
      "Iteration 3: x = [27.5]\n",
      "Iteration 4: x = [27.65625]\n",
      "Iteration 5: x = [27.578125]\n",
      "Iteration 6: x = [27.578125]\n",
      "Iteration 7: x = [27.578125]\n",
      "Iteration 8: x = [27.578125]\n",
      "Iteration 9: x = [27.57324219]\n",
      "Iteration 10: x = [27.57324219]\n",
      "Iteration 11: x = [27.57324219]\n",
      "Iteration 12: x = [27.57324219]\n",
      "Iteration 13: x = [27.57324219]\n",
      "Iteration 14: x = [27.57324219]\n",
      "Iteration 15: x = [27.57324219]\n",
      "Iteration 16: x = [27.57324219]\n",
      "Iteration 17: x = [27.57324219]\n",
      "Iteration 18: x = [27.57324219]\n",
      "Iteration 19: x = [27.57324219]\n",
      "Iteration 20: x = [27.57324219]\n",
      "Iteration 21: x = [27.57324219]\n",
      "Iteration 22: x = [27.57324219]\n",
      "Iteration 23: x = [27.57324219]\n",
      "Iteration 24: x = [27.57324219]\n",
      "Iteration 25: x = [27.57324219]\n",
      "Iteration 26: x = [27.57324219]\n",
      "Iteration 27: x = [27.57324219]\n",
      "Iteration 28: x = [27.57324219]\n",
      "Iteration 29: x = [27.57324219]\n",
      "Iteration 30: x = [27.57324219]\n",
      "Optimization terminated.\n",
      "Iteration 1: x = [11.4]\n",
      "Iteration 2: x = [11.4]\n",
      "Iteration 3: x = [11.4]\n",
      "Iteration 4: x = [11.4]\n",
      "Iteration 5: x = [11.3625]\n",
      "Iteration 6: x = [11.3625]\n",
      "Iteration 7: x = [11.3625]\n",
      "Iteration 8: x = [11.3671875]\n",
      "Iteration 9: x = [11.3671875]\n",
      "Iteration 10: x = [11.3671875]\n",
      "Iteration 11: x = [11.3671875]\n",
      "Iteration 12: x = [11.3671875]\n",
      "Iteration 13: x = [11.3671875]\n",
      "Iteration 14: x = [11.3671875]\n",
      "Iteration 15: x = [11.3671875]\n",
      "Iteration 16: x = [11.3671875]\n",
      "Iteration 17: x = [11.3671875]\n",
      "Iteration 18: x = [11.3671875]\n",
      "Iteration 19: x = [11.3671875]\n",
      "Iteration 20: x = [11.3671875]\n",
      "Iteration 21: x = [11.3671875]\n",
      "Iteration 22: x = [11.36718693]\n",
      "Iteration 23: x = [11.36718693]\n",
      "Iteration 24: x = [11.36718693]\n",
      "Iteration 25: x = [11.36718693]\n",
      "Iteration 26: x = [11.36718693]\n",
      "Iteration 27: x = [11.36718693]\n",
      "Iteration 28: x = [11.36718693]\n",
      "Iteration 29: x = [11.36718693]\n",
      "Iteration 30: x = [11.36718693]\n",
      "Optimization terminated.\n",
      "Iteration 1: x = [2.3]\n",
      "Iteration 2: x = [2.7]\n",
      "Iteration 3: x = [2.7]\n",
      "Iteration 4: x = [2.7]\n",
      "Iteration 5: x = [2.75]\n",
      "Iteration 6: x = [2.75]\n",
      "Iteration 7: x = [2.75]\n",
      "Iteration 8: x = [2.75]\n",
      "Iteration 9: x = [2.75]\n",
      "Iteration 10: x = [2.75]\n",
      "Iteration 11: x = [2.75]\n",
      "Iteration 12: x = [2.75]\n",
      "Iteration 13: x = [2.75]\n",
      "Iteration 14: x = [2.75]\n",
      "Iteration 15: x = [2.75]\n",
      "Iteration 16: x = [2.75004883]\n",
      "Iteration 17: x = [2.75004883]\n",
      "Iteration 18: x = [2.75004883]\n",
      "Iteration 19: x = [2.75004883]\n",
      "Iteration 20: x = [2.75004883]\n",
      "Iteration 21: x = [2.75004883]\n",
      "Iteration 22: x = [2.75004807]\n",
      "Iteration 23: x = [2.75004807]\n",
      "Iteration 24: x = [2.75004807]\n",
      "Iteration 25: x = [2.75004816]\n",
      "Iteration 26: x = [2.75004816]\n",
      "Iteration 27: x = [2.75004818]\n",
      "Iteration 28: x = [2.75004818]\n",
      "Iteration 29: x = [2.75004818]\n",
      "Iteration 30: x = [2.75004818]\n",
      "Optimization terminated.\n"
     ]
    }
   ],
   "source": [
    "#Iteration process of nelder-mead\n",
    "# Custom exception for terminating optimization\n",
    "class TerminationException(Exception):\n",
    "    pass\n",
    "\n",
    "# Define the callback function\n",
    "def callback(xk):\n",
    "    callback.iteration += 1\n",
    "    print(f\"Iteration {callback.iteration}: x = {xk}\")\n",
    "    callback.result.append(xk)\n",
    "    if callback.iteration >= 30:\n",
    "        raise TerminationException(\"Terminated.\")\n",
    "##rho\n",
    "callback.iteration = 0\n",
    "callback.result = []\n",
    "\n",
    "# Initial guess\n",
    "x0 = np.array([25.0])\n",
    "\n",
    "try:\n",
    "    # Perform the optimization\n",
    "    result = scipy.optimize.minimize(param2distance_rho, x0, method=\"Nelder-Mead\", callback=callback).x\n",
    "except TerminationException:\n",
    "    print(\"Optimization terminated.\")\n",
    "\n",
    "# Convert the result list to a NumPy array\n",
    "predict_rho = np.array(callback.result)\n",
    "\n",
    "##sigma\n",
    "callback.iteration = 0\n",
    "callback.result = []\n",
    "\n",
    "# Initial guess\n",
    "x0 = np.array([12.0])\n",
    "\n",
    "try:\n",
    "    # Perform the optimization\n",
    "    result = scipy.optimize.minimize(param2distance_sigma, x0, method=\"Nelder-Mead\", callback=callback).x\n",
    "except TerminationException:\n",
    "    print(\"Optimization terminated.\")\n",
    "\n",
    "# Convert the result list to a NumPy array\n",
    "predict_sigma = np.array(callback.result)\n",
    "\n",
    "##beta\n",
    "callback.iteration = 0\n",
    "callback.result = []\n",
    "\n",
    "# Initial guess\n",
    "x0 = np.array([2.0])\n",
    "\n",
    "try:\n",
    "    # Perform the optimization\n",
    "    result = scipy.optimize.minimize(param2distance_beta, x0, method=\"Nelder-Mead\", callback=callback).x\n",
    "except TerminationException:\n",
    "    print(\"Optimization terminated.\")\n",
    "\n",
    "# Convert the result list to a NumPy array\n",
    "predict_beta = np.array(callback.result)\n",
    "\n"
   ]
  },
  {
   "cell_type": "code",
   "execution_count": 21,
   "metadata": {},
   "outputs": [
    {
     "data": {
      "text/plain": [
       "Text(0, 0.5, 'Error')"
      ]
     },
     "execution_count": 21,
     "metadata": {},
     "output_type": "execute_result"
    },
    {
     "data": {
      "image/png": "[encoded data removed]",
      "text/plain": [
       "<Figure size 640x480 with 1 Axes>"
      ]
     },
     "metadata": {},
     "output_type": "display_data"
    }
   ],
   "source": [
    "#nelder-mead figure\n",
    "plt.plot(np.arange(1, len(predict_rho)+1, 1), abs(predict_rho - params_fixed[\"rho\"])**2)\n",
    "plt.plot(np.arange(1, len(predict_sigma)+1, 1), abs(predict_sigma - params_fixed[\"sigma\"])**2)\n",
    "plt.plot(np.arange(1, len(predict_beta)+1, 1), abs(predict_beta - params_fixed[\"beta\"])**2)\n",
    "#plt.scatter(iteration, predict_sigma - 10.)\n",
    "#plt.scatter(iteration, predict_beta - 1.5)\n",
    "plt.xlabel(\"iteration\")\n",
    "plt.ylabel(\"Error\")"
   ]
  }
 ],
 "metadata": {
  "kernelspec": {
   "display_name": "Python 3",
   "language": "python",
   "name": "python3"
  },
  "language_info": {
   "codemirror_mode": {
    "name": "ipython",
    "version": 3
   },
   "file_extension": ".py",
   "mimetype": "text/x-python",
   "name": "python",
   "nbconvert_exporter": "python",
   "pygments_lexer": "ipython3",
   "version": "3.11.4"
  },
  "orig_nbformat": 4
 },
 "nbformat": 4,
 "nbformat_minor": 2
}
