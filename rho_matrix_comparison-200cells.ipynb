{
 "cells": [
  {
   "cell_type": "code",
   "execution_count": 14,
   "id": "e88d1b93",
   "metadata": {},
   "outputs": [],
   "source": [
    "import numpy as np\n",
    "import matplotlib.pyplot as plt\n",
    "from scipy.interpolate import make_interp_spline\n",
    "from scipy.spatial import cKDTree\n",
    "from scipy.sparse import lil_matrix\n",
    "import copy\n",
    "from sklearn.cluster import KMeans, MiniBatchKMeans\n",
    "from scipy.sparse import spdiags\n",
    "import scipy.sparse.linalg as linalg\n",
    "from scipy.sparse import lil_matrix\n",
    "from scipy.sparse.linalg import eigs\n",
    "from mpl_toolkits.mplot3d import Axes3D\n",
    "from scipy.integrate import solve_ivp\n",
    "from matplotlib import cm\n",
    "import math"
   ]
  },
  {
   "cell_type": "code",
   "execution_count": 15,
   "id": "72d3a039",
   "metadata": {},
   "outputs": [],
   "source": [
    "#real parameters\n",
    "G_fixed = {\n",
    "    \"thresh\": 0.00002,\n",
    "    \"max\": 10000,\n",
    "    \"dt\": #sampling frequency\n",
    "    #0.001,\n",
    "    #0.0005, \n",
    "    0.005,##original \n",
    "    \"dx\": 3,\n",
    "    \"d\": 3,\n",
    "    \"sigma\": 10,\n",
    "    \"b\": 1.5,\n",
    "    \"r\": 40,\n",
    "    \"L\": 30,\n",
    "    \"alpha\": 1e-4,\n",
    "    \"diff\": 0,\n",
    "    \"length\": \n",
    "    int(1e05 + 1) ##ORIGINAL\n",
    "    #10000\n",
    "    #int(1e06 + 1)\n",
    "}\n",
    "G = copy.deepcopy(G_fixed)\n",
    "#new params\n",
    "def change_param(new, param = \"r\"):\n",
    "    G[param] = new\n",
    "    return G\n",
    "\n",
    "# Define the right-hand side (RHS) function. In this case, Lorenz-63 system\n",
    "def RHS(y, G):\n",
    "    f1 = G[\"sigma\"] * (y[1] - y[0])\n",
    "    f2 = y[0] * (G[\"r\"] - y[2]) - y[1]\n",
    "    f3 = y[0] * y[1] - G[\"b\"] * y[2]\n",
    "    f = np.array((f1, f2, f3)).reshape(3, 1)\n",
    "    return f\n",
    "\n",
    "# Set initial values and parameters\n",
    "start = np.array((-11.5, -10, 9.5)).reshape(3, 1)\n",
    "#G[\"Y\"] = np.identity(G[\"d\"], int) # Unsure about what this line actually does here\n",
    "nt = 1#transition step size\n",
    "subset_size = 200 #cell number\n",
    "\n",
    "# METHOD 1: Euler's Method. Faster and easier to understand, but much greater error\n",
    "def Euler(G):\n",
    "    y = start\n",
    "    ys = copy.deepcopy(y)\n",
    "    for timestep in range(1, G[\"length\"]): \n",
    "        \n",
    "        y = y + G[\"dt\"] * RHS(y, G)\n",
    "        ys = np.append(ys, y, axis=1) \n",
    "    \n",
    "    return ys"
   ]
  },
  {
   "cell_type": "code",
   "execution_count": 16,
   "id": "3b65e15a",
   "metadata": {},
   "outputs": [],
   "source": [
    "#REAL trajectory\n",
    "ys_fixed = Euler(G_fixed)\n",
    "\n",
    "#CELL CENTER\n",
    "Xtrain_fixed = ys_fixed.transpose()\n",
    "sample = MiniBatchKMeans(n_clusters=subset_size).fit(Xtrain_fixed).cluster_centers_\n",
    "ysample = sample.transpose()\n"
   ]
  },
  {
   "cell_type": "code",
   "execution_count": 17,
   "id": "3561f5ff",
   "metadata": {},
   "outputs": [],
   "source": [
    "#contruct Markov matrix\n",
    "def Markov(ys):\n",
    "\n",
    "    Xtrain = ys.transpose()#POINTS\n",
    "\n",
    "    #neighbor searching\n",
    "    bins = [[] for _ in range(subset_size)]\n",
    "    tree = cKDTree(sample)\n",
    "    point_dst, point_idxs = tree.query(Xtrain) \n",
    "    # Find the nearest cluster center for each solution point and assign them to corresponding bins\n",
    "    \n",
    "    for i in range(len(point_idxs)):\n",
    "        bins[point_idxs[i]].append(i)    \n",
    "    #point_idxs assign each point to the corresponding cell\n",
    "    \n",
    "    #build the transition matrix and find cell edges\n",
    "    lp = len(point_idxs)\n",
    "\n",
    "    transitions = point_idxs[nt:lp] - point_idxs[0:(lp - nt)]\n",
    "    cellEdge = np.flatnonzero(transitions) + 1\n",
    "    \n",
    "    M_mat = lil_matrix((subset_size, subset_size))\n",
    "    for ind in range(0, len(cellEdge) - nt):\n",
    "        ce = cellEdge[ind] \n",
    "        M_mat[point_idxs[ce],point_idxs[ce+nt]] += 1.0\n",
    "        \n",
    "# Convert the sparse matrix to a dense matrix\n",
    "    M_mat = M_mat.toarray()\n",
    "\n",
    "# Divide each column by the sum of that column\n",
    "    row_sums = np.sum(M_mat, axis=1)\n",
    "\n",
    "    for i in range(subset_size):\n",
    "        if row_sums[i] != 0:\n",
    "            M_mat[:,i] = M_mat[:,i]/row_sums[i]\n",
    "        \n",
    "    return M_mat"
   ]
  },
  {
   "cell_type": "code",
   "execution_count": 18,
   "id": "ced21e2c",
   "metadata": {},
   "outputs": [
    {
     "data": {
      "text/plain": [
       "<matplotlib.lines.Line2D at 0x7fdbe58a8f10>"
      ]
     },
     "execution_count": 18,
     "metadata": {},
     "output_type": "execute_result"
    },
    {
     "data": {
      "image/png": "[encoded data removed]",
      "text/plain": [
       "<Figure size 360x360 with 1 Axes>"
      ]
     },
     "metadata": {
      "needs_background": "light"
     },
     "output_type": "display_data"
    }
   ],
   "source": [
    "\n",
    "#REAL Markov matrix\n",
    "M_mat0 = Markov(ys_fixed)\n",
    "\n",
    "\n",
    "#sanity check of Markov matrix\n",
    "\n",
    "fig = plt.figure(figsize=(5, 5))\n",
    "plt.spy(M_mat0, precision=0, marker=None, markersize=1, aspect='equal', origin='upper')"
   ]
  },
  {
   "cell_type": "code",
   "execution_count": 19,
   "id": "da2ce3df",
   "metadata": {},
   "outputs": [],
   "source": [
    "#define a function with input = parameter, output = Markov matrix\n",
    "def matrix(param):\n",
    "    return Markov(Euler(change_param(param)))\n",
    "def obj_fun(x):\n",
    "    output = []\n",
    "    for i in x:\n",
    "        output.append(matrix(i))\n",
    "    return output"
   ]
  },
  {
   "cell_type": "code",
   "execution_count": null,
   "id": "e7e45d9d-00da-4cb4-b55b-3bf0dd801566",
   "metadata": {
    "tags": []
   },
   "outputs": [],
   "source": [
    "rho_2 = [20]\n",
    "\n",
    "for i in range(20):\n",
    "    rho_2.append(rho_2[i] + 2)\n",
    "    \n",
    "mat_2 = obj_fun(rho_2)"
   ]
  },
  {
   "cell_type": "code",
   "execution_count": 11,
   "id": "27833d6d",
   "metadata": {},
   "outputs": [],
   "source": [
    "#(c) matrix - Frobenius norm\n",
    "def J_c(matrix):\n",
    "\n",
    "    difference_mat = M_mat0 - matrix\n",
    "    return math.sqrt(sum(sum(difference_mat**2)))\n",
    "\n",
    "\n",
    "def mat_comparison(matrices):\n",
    "    obj_c = []\n",
    "    for m in matrices:\n",
    "        obj_c.append(J_c(m))\n",
    "        \n",
    "    \n",
    "    return obj_c"
   ]
  },
  {
   "cell_type": "code",
   "execution_count": 13,
   "id": "8139d161",
   "metadata": {},
   "outputs": [
    {
     "data": {
      "image/png": "[encoded data removed]",
      "text/plain": [
       "<Figure size 432x288 with 1 Axes>"
      ]
     },
     "metadata": {
      "needs_background": "light"
     },
     "output_type": "display_data"
    }
   ],
   "source": [
    "#plot matrices comparison\n",
    "plt.scatter(rho_2, mat_comparison(mat_2))\n",
    "plt.xlabel(\"rho\")\n",
    "plt.ylabel(\"Frobenius Distance\")\n",
    "plt.show()\n",
    "\n",
    "\n",
    "# plt.scatter(rho_5, mat_comparison(mat_5))\n",
    "# plt.xlabel(\"rho\")\n",
    "# plt.ylabel(\"Frobenius Distance\")\n",
    "# plt.show()\n"
   ]
  }
 ],
 "metadata": {
  "kernelspec": {
   "display_name": "Python 3 (ipykernel)",
   "language": "python",
   "name": "python3"
  },
  "language_info": {
   "codemirror_mode": {
    "name": "ipython",
    "version": 3
   },
   "file_extension": ".py",
   "mimetype": "text/x-python",
   "name": "python",
   "nbconvert_exporter": "python",
   "pygments_lexer": "ipython3",
   "version": "3.10.6"
  }
 },
 "nbformat": 4,
 "nbformat_minor": 5
}
