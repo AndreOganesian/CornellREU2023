{
 "cells": [
  {
   "cell_type": "code",
   "execution_count": 1,
   "id": "b8f675ff-27b7-4005-b757-cd3fa6cb7c9a",
   "metadata": {
    "tags": []
   },
   "outputs": [],
   "source": [
    "import numpy as np"
   ]
  },
  {
   "cell_type": "code",
   "execution_count": 2,
   "id": "7f516023-c378-4a4a-8cba-8ba824f87214",
   "metadata": {},
   "outputs": [],
   "source": [
    "G = {\n",
    "    \"length\": 1000\n",
    "}"
   ]
  },
  {
   "cell_type": "code",
   "execution_count": 3,
   "id": "d4270560-ffc3-4297-8727-a5c0a19a644d",
   "metadata": {
    "tags": []
   },
   "outputs": [],
   "source": [
    "#cat map\n",
    "def cat(starts):\n",
    "    num = len(starts)\n",
    "    outputs = np.zeros((num, 2))\n",
    "    for i in range(num):\n",
    "        x, y = starts[i][0], starts[i][1]\n",
    "        output = np.array([(x + y) % 1, (x + 2 * y) % 1])\n",
    "        outputs[i] += output\n",
    "\n",
    "    return outputs\n"
   ]
  },
  {
   "cell_type": "code",
   "execution_count": 4,
   "id": "03433269-34da-4f67-88d2-4b2e584f3c26",
   "metadata": {},
   "outputs": [],
   "source": [
    "#initial conditions\n",
    "start_pts = np.array(([.1, .5],[.8, .8]))\n",
    "traj_num = len(start_pts)"
   ]
  },
  {
   "cell_type": "code",
   "execution_count": 5,
   "id": "bbe87ead-130f-4c80-8712-de55a1f26cf0",
   "metadata": {},
   "outputs": [],
   "source": [
    "#trajectory simulation\n",
    "def trajectories(starts = start_pts):\n",
    "    length = G[\"length\"]\n",
    "    traj = np.zeros((G[\"length\"], traj_num, 2))\n",
    "    y = starts\n",
    "    for i in range(length):\n",
    "        traj[i] += y\n",
    "        y = cat(y)\n",
    "    return np.array(traj)\n",
    "        "
   ]
  },
  {
   "cell_type": "code",
   "execution_count": 6,
   "id": "93f19591-83c2-4b64-9f1e-f8dddeb96b05",
   "metadata": {
    "tags": []
   },
   "outputs": [],
   "source": [
    "#trajectory\n",
    "Xtrain = trajectories()\n",
    "#points\n",
    "points = np.concatenate(Xtrain,0)\n",
    "#number of cell centers\n",
    "subset_size = 5"
   ]
  },
  {
   "cell_type": "code",
   "execution_count": 7,
   "id": "af4b3c98-95eb-4e4c-b6b8-aa2a20e4fc2a",
   "metadata": {
    "tags": []
   },
   "outputs": [],
   "source": [
    "#find cell_centers\n",
    "def cell_centers(num, pts = points):\n",
    "\n",
    "    length = len(pts)\n",
    "    indices = np.random.choice(length, num)\n",
    "    centers = np.zeros((num, 2))\n",
    "    for i in range(num):\n",
    "        index = indices[i]\n",
    "        #print(index)\n",
    "        #print(pts[index])\n",
    "        centers[i] += pts[:][index]\n",
    "        \n",
    "    return centers"
   ]
  },
  {
   "cell_type": "code",
   "execution_count": 8,
   "id": "e2ba64f9-6903-4b3d-a2d3-22260380bc52",
   "metadata": {
    "tags": []
   },
   "outputs": [],
   "source": [
    "#cell_centers\n",
    "sample = cell_centers(subset_size)\n",
    "\n",
    "#NEIGHBOR SEARCHING\n",
    "def neighbor_searching(pts = points, centers = sample):\n",
    "    pt_idxs = np.zeros(len(pts))\n",
    "    #compute distance\n",
    "    xs, ys = pts.transpose()[0], pts.transpose()[1]\n",
    "    x0s, y0s = centers.transpose()[0], centers.transpose()[1]\n",
    "    for i in range(len(pts)):\n",
    "        Dxs = np.minimum(abs(xs[i] - x0s), 1 - abs(xs[i] - x0s))\n",
    "        Dys = np.minimum(abs(ys[i] - y0s), 1 - abs(ys[i] - y0s))\n",
    "        new_pts = np.array((Dxs, Dys)).transpose()\n",
    "        distances = np.linalg.norm(new_pts, axis = 1)\n",
    "        idxs = np.argmin(distances)\n",
    "        pt_idxs[i] += idxs\n",
    "        \n",
    "    return pt_idxs.astype(int)\n",
    "        \n",
    "    \n"
   ]
  },
  {
   "cell_type": "code",
   "execution_count": 19,
   "id": "7feea75f-2229-45bb-a412-c7c025475236",
   "metadata": {
    "tags": []
   },
   "outputs": [],
   "source": [
    "#transition step\n",
    "nt = 1 * traj_num\n",
    "#contruct Markov matrix using Ulam method\n",
    "def Ulam_matrix(pts = points):\n",
    "    M_mat = np.zeros((subset_size, subset_size))\n",
    "    \n",
    "    point_idxs = neighbor_searching()\n",
    "    length = len(points)\n",
    "    transitions = point_idxs[nt:length] - point_idxs[0:(length - nt)]\n",
    "    cellEdge = np.flatnonzero(transitions) #+ 1\n",
    "    \n",
    "    # Build markov matrix\n",
    "    M_mat = np.zeros((subset_size, subset_size))\n",
    "    for ind in range(0, len(cellEdge) - nt):\n",
    "        ce = cellEdge[ind] \n",
    "        M_mat[point_idxs[ce],point_idxs[ce+nt]] += 1.0\n",
    "\n",
    "    # Normalize rows\n",
    "    row_sums = np.sum(M_mat, axis=1)\n",
    "    nonzero_rows = np.nonzero(row_sums)\n",
    "    row_sums_reshaped = row_sums.reshape(-1, 1)\n",
    "\n",
    "    M_mat[nonzero_rows] /= row_sums_reshaped\n",
    "\n",
    "\n",
    "    return M_mat   "
   ]
  },
  {
   "cell_type": "code",
   "execution_count": null,
   "id": "2379ae9a-7dcb-4645-9b7c-6d687d27a319",
   "metadata": {},
   "outputs": [],
   "source": []
  }
 ],
 "metadata": {
  "kernelspec": {
   "display_name": "Python 3",
   "language": "python",
   "name": "python3"
  },
  "language_info": {
   "codemirror_mode": {
    "name": "ipython",
    "version": 3
   },
   "file_extension": ".py",
   "mimetype": "text/x-python",
   "name": "python",
   "nbconvert_exporter": "python",
   "pygments_lexer": "ipython3",
   "version": "3.8.8"
  }
 },
 "nbformat": 4,
 "nbformat_minor": 5
}
