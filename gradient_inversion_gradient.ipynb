{
 "cells": [
  {
   "cell_type": "code",
   "execution_count": 1,
   "id": "e88d1b93",
   "metadata": {
    "tags": []
   },
   "outputs": [],
   "source": [
    "import numpy as np\n",
    "import jax\n",
    "import jax.numpy as jnp\n",
    "import matplotlib.pyplot as plt\n",
    "import scipy\n",
    "from scipy.spatial import cKDTree\n",
    "from scipy.spatial import Delaunay\n",
    "from scipy.optimize import basinhopping\n",
    "import copy\n",
    "from sklearn.cluster import MiniBatchKMeans\n",
    "from basic_functions import *\n",
    "import time"
   ]
  },
  {
   "cell_type": "code",
   "execution_count": 2,
   "id": "395ed02c-dbd8-43cf-a0b0-e52f8d6e8d6d",
   "metadata": {
    "tags": []
   },
   "outputs": [
    {
     "name": "stderr",
     "output_type": "stream",
     "text": [
      "/homes/yinonghyn/.local/lib/python3.10/site-packages/sklearn/cluster/_kmeans.py:1930: FutureWarning: The default value of `n_init` will change from 3 to 'auto' in 1.4. Set the value of `n_init` explicitly to suppress the warning\n",
      "  super()._check_params_vs_input(X, default_n_init=3)\n"
     ]
    }
   ],
   "source": [
    "#REAL trajectory\n",
    "new_param = change_param(10000, \"length\")\n",
    "ys_fixed = Euler_jnp(new_param)\n",
    "\n",
    "subset_size = 500\n",
    "#CELL CENTER\n",
    "Xtrain_fixed = ys_fixed.transpose()\n",
    "sample = MiniBatchKMeans(n_clusters=subset_size).fit(Xtrain_fixed).cluster_centers_"
   ]
  },
  {
   "cell_type": "code",
   "execution_count": 3,
   "id": "b03215e6-067e-4263-8eaa-2565e0ed45e7",
   "metadata": {
    "tags": []
   },
   "outputs": [],
   "source": [
    "#point indices with respect to voronoi cells\n",
    "\n",
    "def idxs(ys):\n",
    "    point_idxs = []\n",
    "    Xtrain = ys.transpose()#coordinates of points\n",
    "    \n",
    "    for i in range(new_param[\"length\"]):\n",
    "        \n",
    "        distances = np.linalg.norm(sample - Xtrain[i], axis = 1)\n",
    "        #Euclidean distance from the ith point to each cell\n",
    "        \n",
    "        idxs = np.argmin(distances)\n",
    "        point_idxs.append(idxs)\n",
    "    \n",
    "    point_idxs = jnp.array(point_idxs)\n",
    "    \n",
    "    return point_idxs"
   ]
  },
  {
   "cell_type": "code",
   "execution_count": 4,
   "id": "f300991a-ce96-4ecf-8d5a-51133e179546",
   "metadata": {
    "tags": []
   },
   "outputs": [],
   "source": [
    "#cell center of barycentric simplexes\n",
    "\n",
    "Dtri = Delaunay(sample)\n",
    "vertices_cells = Dtri.simplices\n",
    "\n",
    "#vertex coordinates of barycentric simplexes\n",
    "vertices = sample[vertices_cells]"
   ]
  },
  {
   "cell_type": "code",
   "execution_count": 6,
   "id": "6943d527",
   "metadata": {
    "tags": []
   },
   "outputs": [],
   "source": [
    "#input:simplex coordinates; output: barycentrix matrix\n",
    "def precompute_barycentric_matrix(simplex):\n",
    "\n",
    "    r1, r2, r3, r4 = simplex\n",
    "\n",
    "    x1, y1, z1 = r1\n",
    "    x2, y2, z2 = r2\n",
    "    x3, y3, z3 = r3\n",
    "    x4, y4, z4 = r4\n",
    "    \n",
    "    T = np.array(([1., 1., 1., 1.],\n",
    "                    [x1, x2, x3, x4],\n",
    "                    [y1, y2, y3, y4],\n",
    "                    [z1, z2, z3, z4]))\n",
    "    T_inverse = np.linalg.inv(T)\n",
    "\n",
    "    return T_inverse"
   ]
  },
  {
   "cell_type": "code",
   "execution_count": 7,
   "id": "273c80a4-66d0-4bcb-a7a8-3d2a969a99d2",
   "metadata": {
    "tags": []
   },
   "outputs": [],
   "source": [
    "#which simplex a point in the real trajectory is in\n",
    "simplex_idxs = np.zeros(new_param[\"length\"])\n",
    "for i in range(new_param[\"length\"]):\n",
    "    simplex_idxs[i] += Delaunay.find_simplex(Dtri, Xtrain_fixed[i])\n",
    "    \n",
    "simplex_idxs = jnp.array(simplex_idxs).astype(int)"
   ]
  },
  {
   "cell_type": "code",
   "execution_count": 8,
   "id": "0b028c65-7dc2-411e-b302-d52fe7ca2815",
   "metadata": {
    "tags": []
   },
   "outputs": [],
   "source": [
    "\n",
    "#I use numpy here for now so this runs fast. But we probably need to jax when taking gradient.\n",
    "#input:trajectory\n",
    "#output:jnp array of (weights, indices)\n",
    "def car2bar_weight(ys):   \n",
    "    weights_coords = []\n",
    "    Xtrain = ys.transpose()\n",
    "    for i in range(new_param[\"length\"]):\n",
    "        pt = Xtrain[i]\n",
    "    #Cartesian coordinates\n",
    "        x, y, z = pt\n",
    "        vec = jnp.array((1,x,y,z))#vector for barycentric matrix computing\n",
    "        simplex_index = simplex_idxs[i]\n",
    "        \n",
    "        #if not inside simplex\n",
    "        if simplex_index == -1 :\n",
    "            distance = jnp.linalg.norm(sample - pt, axis = 1)\n",
    "            index = np.argmin(distance)\n",
    "            weights_coords.append((jnp.array([1., 0., 0., 0.]), \n",
    "                                   jnp.array([index, 0, 0, 0])))\n",
    "        \n",
    "        #if inside or on simplex\n",
    "        else:\n",
    "            simplex_coords = vertices[simplex_index]\n",
    "            mat = precompute_barycentric_matrix(simplex_coords)\n",
    "            bar = jnp.dot(mat,vec)\n",
    "\n",
    "            weights_coords.append((jnp.array((bar)), vertices_cells[simplex_index]))\n",
    "    return jnp.array(weights_coords)\n",
    "\n",
    "        \n"
   ]
  },
  {
   "cell_type": "code",
   "execution_count": 9,
   "id": "bc674a4c-867d-4f56-a35c-55539d4a3f15",
   "metadata": {
    "tags": []
   },
   "outputs": [],
   "source": [
    "#generate idxs_tilda\n",
    "def idxs_tilda(ys):\n",
    "    # start_time = time.time()\n",
    "\n",
    "    point_idxs_tilda = jnp.zeros((subset_size, new_param[\"length\"]))\n",
    "    weights_coords = car2bar_weight(ys)\n",
    "    \n",
    "    for i in range(new_param[\"length\"]):\n",
    "        w, ind = weights_coords[i]\n",
    "        ind = ind.astype(int)\n",
    "        #for num in range(len(w)):\n",
    "        point_idxs_tilda = point_idxs_tilda.at[ind[0], i].add(w[0])\n",
    "        point_idxs_tilda = point_idxs_tilda.at[ind[1], i].add(w[1])\n",
    "        point_idxs_tilda = point_idxs_tilda.at[ind[2], i].add(w[2])\n",
    "        point_idxs_tilda = point_idxs_tilda.at[ind[3], i].add(w[3])\n",
    "        # if time.time() - start_time >= 10:\n",
    "        #             print(f\"i = {i}\")\n",
    "        #             start_time = time.time()\n",
    "            \n",
    "    return point_idxs_tilda"
   ]
  },
  {
   "cell_type": "code",
   "execution_count": 10,
   "id": "a4e2da03",
   "metadata": {
    "tags": []
   },
   "outputs": [],
   "source": [
    "#barycentric_matrices = precompute_barycentric_matrices(vertices)\n",
    "point_idxs_tilda = idxs_tilda(ys_fixed)"
   ]
  },
  {
   "cell_type": "code",
   "execution_count": 11,
   "id": "b42b51b0",
   "metadata": {},
   "outputs": [],
   "source": [
    "#Markov matrix constructed by making the (i, j) entry the sum of the products of the kth entry in the ith row and the (k+1)th entry in the jth row of point_idxs_tilda\n",
    "#Dot product of point_idxs_tilda minus the last row and point_idxs_tilda minus the first row should be the same computation\n",
    "markov_matrix = np.dot(point_idxs_tilda[:, :-1], point_idxs_tilda[:, 1:].T)\n",
    "row_sums = np.sum(point_idxs_tilda, axis = 1)\n",
    "markov_matrix = markov_matrix / row_sums[:, None]"
   ]
  },
  {
   "cell_type": "code",
   "execution_count": 12,
   "id": "f976a53c-a0c8-44be-a5ca-5553b57ef671",
   "metadata": {},
   "outputs": [],
   "source": [
    "def modified_markov(ys):\n",
    "    pt_idxs_tilda = idxs_tilda(ys)\n",
    "    markov = jnp.dot(pt_idxs_tilda[:, :-1], pt_idxs_tilda[:, 1:].T)\n",
    "    r_sums = jnp.sum(pt_idxs_tilda, axis = 1)\n",
    "    r_sums[:,None].at[r_sums[:,None] == 0].add(1.)\n",
    "    return markov / r_sums[:, None]"
   ]
  },
  {
   "cell_type": "code",
   "execution_count": 13,
   "id": "f6e43425-a958-4e91-a8a6-826e9044a08d",
   "metadata": {},
   "outputs": [],
   "source": [
    "def param2dist_rho(param):\n",
    "    new_param = change_param(param, \"rho\")\n",
    "    ys = Euler_jnp(new_param)\n",
    "    return jnp.linalg.norm(modified_markov(ys) - markov_matrix)"
   ]
  },
  {
   "cell_type": "code",
   "execution_count": 14,
   "id": "c92d4ebd-060a-47d3-903b-8cdda1dcedfe",
   "metadata": {
    "tags": []
   },
   "outputs": [],
   "source": [
    "# markov_test = jnp.dot(pt_idxs_tilda_test[:, :-1], pt_idxs_tilda_test[:, 1:].T)"
   ]
  },
  {
   "cell_type": "code",
   "execution_count": 15,
   "id": "b2e53b7e-6c62-4692-b5bf-597b8c898403",
   "metadata": {
    "tags": []
   },
   "outputs": [],
   "source": [
    "# ys_37 = Euler_jnp(change_param(37., \"rho\"))"
   ]
  },
  {
   "cell_type": "code",
   "execution_count": 16,
   "id": "5484d4db-fda5-49a2-aea4-a4f57ac28db3",
   "metadata": {
    "tags": []
   },
   "outputs": [],
   "source": [
    "# pt_idxs_tilda_test = idxs_tilda(ys_37, barycentric_matrices)"
   ]
  },
  {
   "cell_type": "code",
   "execution_count": 17,
   "id": "bd79c5b6-5f72-4b2f-bf6f-19e9d93dd38a",
   "metadata": {
    "tags": []
   },
   "outputs": [],
   "source": [
    "# r_sums_test = jnp.sum(pt_idxs_tilda_test, axis = 1)"
   ]
  },
  {
   "cell_type": "code",
   "execution_count": 18,
   "id": "ddeaba26-ad16-4c59-9d20-9b2a2b98ee0b",
   "metadata": {
    "tags": []
   },
   "outputs": [
    {
     "data": {
      "text/plain": [
       "Array(551876.94, dtype=float32)"
      ]
     },
     "execution_count": 18,
     "metadata": {},
     "output_type": "execute_result"
    }
   ],
   "source": [
    "param2dist_rho(37.)"
   ]
  },
  {
   "cell_type": "code",
   "execution_count": 19,
   "id": "eb7bc631-9b20-4c06-8fab-49f228eed435",
   "metadata": {
    "tags": []
   },
   "outputs": [],
   "source": [
    "gradient = jax.grad(param2dist_rho)"
   ]
  },
  {
   "cell_type": "code",
   "execution_count": 20,
   "id": "b4a0080c-aa3e-4d1c-8e76-3db3551ee05a",
   "metadata": {
    "tags": []
   },
   "outputs": [
    {
     "data": {
      "text/plain": [
       "Array(-3.348636e+27, dtype=float32, weak_type=True)"
      ]
     },
     "execution_count": 20,
     "metadata": {},
     "output_type": "execute_result"
    }
   ],
   "source": [
    "gradient(37.)\n"
   ]
  },
  {
   "cell_type": "code",
   "execution_count": 21,
   "id": "82ef164b-a48b-43da-810b-36c55a2630ef",
   "metadata": {},
   "outputs": [
    {
     "data": {
      "text/plain": [
       "Array(5.4829443e+27, dtype=float32, weak_type=True)"
      ]
     },
     "execution_count": 21,
     "metadata": {},
     "output_type": "execute_result"
    }
   ],
   "source": [
    "gradient(41.)"
   ]
  },
  {
   "cell_type": "code",
   "execution_count": 22,
   "id": "e62582e7-ceda-4bb2-a953-ab5f65bf71f7",
   "metadata": {
    "tags": []
   },
   "outputs": [
    {
     "data": {
      "text/plain": [
       "Array(4.6359838e+24, dtype=float32, weak_type=True)"
      ]
     },
     "execution_count": 22,
     "metadata": {},
     "output_type": "execute_result"
    }
   ],
   "source": [
    "gradient(36.)"
   ]
  },
  {
   "cell_type": "code",
   "execution_count": 24,
   "id": "66a1e42b-5771-47d8-9813-7c387ad58eef",
   "metadata": {
    "tags": []
   },
   "outputs": [
    {
     "data": {
      "text/plain": [
       "Array(-1.2811433e+23, dtype=float32, weak_type=True)"
      ]
     },
     "execution_count": 24,
     "metadata": {},
     "output_type": "execute_result"
    }
   ],
   "source": [
    "gradient(38.)"
   ]
  },
  {
   "cell_type": "code",
   "execution_count": 25,
   "id": "37b9ce96-142a-4f07-9d64-ebde1520cd10",
   "metadata": {
    "tags": []
   },
   "outputs": [
    {
     "data": {
      "text/plain": [
       "Array(-2.8085505e+26, dtype=float32, weak_type=True)"
      ]
     },
     "execution_count": 25,
     "metadata": {},
     "output_type": "execute_result"
    }
   ],
   "source": [
    "gradient(39.)"
   ]
  },
  {
   "cell_type": "code",
   "execution_count": null,
   "id": "8deb8f53-c119-4ac5-a5e7-03b40bf77ee9",
   "metadata": {},
   "outputs": [],
   "source": []
  }
 ],
 "metadata": {
  "kernelspec": {
   "display_name": "Python 3",
   "language": "python",
   "name": "python3"
  },
  "language_info": {
   "codemirror_mode": {
    "name": "ipython",
    "version": 3
   },
   "file_extension": ".py",
   "mimetype": "text/x-python",
   "name": "python",
   "nbconvert_exporter": "python",
   "pygments_lexer": "ipython3",
   "version": "3.8.8"
  }
 },
 "nbformat": 4,
 "nbformat_minor": 5
}
